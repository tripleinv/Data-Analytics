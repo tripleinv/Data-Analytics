{
 "cells": [
  {
   "cell_type": "code",
   "execution_count": 1,
   "id": "ff524d74-9e18-48cc-a407-64427e226db6",
   "metadata": {},
   "outputs": [],
   "source": [
    "import pandas as pd\n",
    "import numpy as np"
   ]
  },
  {
   "cell_type": "markdown",
   "id": "30c6975e-c10a-4abe-91d7-28e5a76e8f15",
   "metadata": {},
   "source": [
    "# 1. df.to_csv(\"output.csv\", index = False)\n"
   ]
  },
  {
   "cell_type": "code",
   "execution_count": 1,
   "id": "3f00c2e1-f397-4fad-af20-cd5b43da352d",
   "metadata": {},
   "outputs": [],
   "source": [
    "# Set the index value to False. This avoids saving unnecessary index into the csv file. "
   ]
  },
  {
   "cell_type": "markdown",
   "id": "125ce5dc-4985-4b28-82ce-d6b324b16752",
   "metadata": {},
   "source": [
    "# 2. do not include space in column names. "
   ]
  },
  {
   "cell_type": "markdown",
   "id": "120d5a34-3f96-41e6-a347-b9fbe1e833cf",
   "metadata": {},
   "source": [
    "# 3. Use the query() method to filter the subset. "
   ]
  },
  {
   "cell_type": "markdown",
   "id": "1a78db27-8614-4089-88a3-24323e50737d",
   "metadata": {},
   "source": [
    "# 4. Use the @ before the varaible name in the query() function. "
   ]
  },
  {
   "cell_type": "markdown",
   "id": "7f003450-aa31-463e-8602-7401336163a1",
   "metadata": {},
   "source": [
    "# 5. Use inplace = True to overwrite the changes. It's better to explicitly overwrite the modification. "
   ]
  },
  {
   "cell_type": "markdown",
   "id": "58a159e1-e025-4919-b437-77e4d961c682",
   "metadata": {},
   "source": [
    "# 6. Use Vectorization over the iterration over the rows. "
   ]
  },
  {
   "cell_type": "markdown",
   "id": "d732c533-c3e5-400b-b18f-49930fa0459d",
   "metadata": {},
   "source": [
    "# 7. Use apply() function when vectorization is not available, it allows you to run any function across the rows or columns. "
   ]
  },
  {
   "cell_type": "markdown",
   "id": "1f6e27b6-0267-46cf-b947-3d14e583be1c",
   "metadata": {},
   "source": [
    "# 8. Leverage the copy() functoin to create a deep copy so that any new changes won't affect the original dataframe. "
   ]
  },
  {
   "cell_type": "markdown",
   "id": "807eb7ce-8e6c-413f-b504-2823fba12076",
   "metadata": {},
   "source": [
    "# 9. It's better to use chaining commands instead of seperate commands"
   ]
  },
  {
   "cell_type": "markdown",
   "id": "5401de8d-9187-4431-8825-dbaec21accfb",
   "metadata": {},
   "source": [
    "# 10. Didn't read the correct data type in Pandas. Like use to_datetime() and to_numeric() function"
   ]
  },
  {
   "cell_type": "markdown",
   "id": "ec924444-edbb-4b66-af50-78d482a48358",
   "metadata": {},
   "source": [
    "# 11. Instead of mannually creating a Yes/No column, use boolean mask to create that."
   ]
  },
  {
   "cell_type": "markdown",
   "id": "fe53fc47-2a48-4636-b10e-50c000145a84",
   "metadata": {},
   "source": [
    "# 12. Leverage Panda's build-in plot function. pd.plot()"
   ]
  },
  {
   "cell_type": "markdown",
   "id": "df64bab4-e0c7-4d32-8e7e-1578fb4101ab",
   "metadata": {},
   "source": [
    "# 13. Apply .str method to an entire column, no need to write a seperate funciton. "
   ]
  },
  {
   "cell_type": "markdown",
   "id": "df2f2aac-e091-4229-8e11-03f23b8ad2cf",
   "metadata": {},
   "source": [
    "# 14. If the same function is going to be applied to multiple dataframe, write a function instead of repeating the code individually every single time. "
   ]
  },
  {
   "cell_type": "markdown",
   "id": "6f627ffd-577a-4e84-90ff-5bc0d99b2baa",
   "metadata": {},
   "source": [
    "\n",
    "# 15. Use the .rename() function to the columns, df.rename(columns = {\"old\": \"new\"})"
   ]
  },
  {
   "cell_type": "markdown",
   "id": "3069631b-1f98-4c47-a1a3-f013c26edf92",
   "metadata": {},
   "source": [
    "# 16. Use the .groupby() function: pd.groupby('category')['numerical value'].min()"
   ]
  },
  {
   "cell_type": "markdown",
   "id": "ad4556c4-56cd-48ad-8c0e-2f3387e0914e",
   "metadata": {},
   "source": [
    "# 17. Use groupby() combined with agg() function: df.groupby('grouping')['time'].agg([\"mean\",\"count\"]). This is mostly used when you want to apply different calculation methods to a single column or multiple columns. "
   ]
  },
  {
   "cell_type": "markdown",
   "id": "d373fd92-a7d4-4e6c-9bd7-d584ecfe6f42",
   "metadata": {},
   "source": [
    "# 18. Use the pct_change() and diff() function to calculate the changes in a Pandas Series."
   ]
  },
  {
   "cell_type": "markdown",
   "id": "13ed549a-0a58-4199-9b6b-78269deef01b",
   "metadata": {},
   "source": [
    "# 19. Save the file to parquet, feather, pickle format to save the memory. "
   ]
  },
  {
   "cell_type": "markdown",
   "id": "f5b77e5e-326e-4896-96d7-19548bdc5285",
   "metadata": {},
   "source": [
    "# 20. Leverage pandas style. function, which allows you to do even conditional formatting and the same formatting on excel. "
   ]
  },
  {
   "cell_type": "markdown",
   "id": "03a7da22-860a-4a13-9ca9-438d1d28a3a2",
   "metadata": {},
   "source": [
    "# 21. Make sure to set up suffixes when merging two datasets. df1_merged = df1.merge(df2, on=['Year'], suffixes = ('_mens', '_womens')), this only applies to the column that exists in both df1 and df2, but the values are different. "
   ]
  },
  {
   "cell_type": "markdown",
   "id": "df02f6f3-e1df-4243-b383-72ddac9522cf",
   "metadata": {},
   "source": [
    "# 22. When merging two dataframes, the merge() function has an argument 'validate' = 'm:m' to automatically check if the merge matches with the options: one_to_one, one_to_many, many_to_one, many_to_many"
   ]
  },
  {
   "cell_type": "markdown",
   "id": "95d9f282-c387-4a1b-a5d3-622edadbdf96",
   "metadata": {},
   "source": [
    "# 23. Don't stack your chain of commands into oneline of code, make it more readable by entering them in seperate lines.  "
   ]
  },
  {
   "cell_type": "markdown",
   "id": "8a1fabfb-3c97-4f8a-ae20-6a23bc18ae0d",
   "metadata": {},
   "source": [
    "# 24. Make sure to use categorical data type whenever it's applicable.  "
   ]
  },
  {
   "cell_type": "markdown",
   "id": "bf8b3d2a-0907-43d7-9cd1-1d34ae288762",
   "metadata": {},
   "source": [
    "# 25. Use value_counts() to get the number of values occured in a column.  and use reset_index(drop = True) if you just created a new dataframe."
   ]
  },
  {
   "cell_type": "markdown",
   "id": "a313c5ab-1c7a-4c06-bb26-48a283cad4c5",
   "metadata": {},
   "source": [
    "# 26. when you use df['column_name'], it will return a pandas Series, but if you use df[['column name']], it will return you a pandas DataFrame. "
   ]
  },
  {
   "cell_type": "code",
   "execution_count": null,
   "id": "67b77e11-a340-4bee-aa0a-d762c59ba706",
   "metadata": {},
   "outputs": [],
   "source": [
    "# 27. Advanced Column Methods: rank(), shift(), cumsum(), cummax(), rolling(), clip(), groupby(),  "
   ]
  }
 ],
 "metadata": {
  "kernelspec": {
   "display_name": "Python 3 (ipykernel)",
   "language": "python",
   "name": "python3"
  },
  "language_info": {
   "codemirror_mode": {
    "name": "ipython",
    "version": 3
   },
   "file_extension": ".py",
   "mimetype": "text/x-python",
   "name": "python",
   "nbconvert_exporter": "python",
   "pygments_lexer": "ipython3",
   "version": "3.12.0"
  }
 },
 "nbformat": 4,
 "nbformat_minor": 5
}
