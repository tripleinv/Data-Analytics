{
 "cells": [
  {
   "cell_type": "markdown",
   "id": "bec90a33-cd1a-4d4b-9498-090b6abe59fa",
   "metadata": {},
   "source": [
    "\n",
    "This is for data processing/calculations: \n",
    "1. The fastest way for data calculation is to use vectorization.(using loc, combined with boolean mask which is filtered at the index level, and then select the column.)\n",
    "2. Second is to use apply\n",
    "3. Lastly, using looping, iterrows. \n",
    "4. when you add magic command, there will be no other output other than what you commanded.\n",
    "\n",
    "This is for data cleaning, decrease the size of the data file: \n",
    "\n",
    "\n",
    "\n"
   ]
  },
  {
   "cell_type": "code",
   "execution_count": 1,
   "id": "fe90c3b4-3271-4a24-aa3f-a4196dc5f1e8",
   "metadata": {},
   "outputs": [],
   "source": [
    "import pandas as pd\n",
    "import numpy as np"
   ]
  },
  {
   "cell_type": "markdown",
   "id": "df9c641b-5a9d-4914-9fbd-b93ed9a142fd",
   "metadata": {},
   "source": [
    "# Create our Dataset"
   ]
  },
  {
   "cell_type": "code",
   "execution_count": 2,
   "id": "6349b011-b6bc-446a-bf72-009e3007cdb8",
   "metadata": {},
   "outputs": [],
   "source": [
    "def get_data(size = 10000):\n",
    "    df = pd.DataFrame()\n",
    "    df['age'] = np.random.randint(0, 100, size)\n",
    "    df[\"time_in_bed\"] = np.random.randint(0, 9, size)\n",
    "    df[\"pct_sleeping\"] = np.random.rand(size)\n",
    "    df[\"favorite_food\"] = np.random.choice(['pizza', 'taco', 'ice-cream'], size)\n",
    "    df[\"hate_food\"] = np.random.choice(['broccoli','candy corn','eggs'], size)\n",
    "    return df"
   ]
  },
  {
   "cell_type": "markdown",
   "id": "ef8df637-c7aa-4a00-b457-23455d4022cc",
   "metadata": {},
   "source": [
    "reward calculation: \n",
    "- If they were in bed for more than 5 hours and they were sleeping for more than 50%, we give them their favorite food. \n",
    "- otherwise, we give them their hate good. \n",
    "- if they are over 90 years old give their favorite food regardless.\n"
   ]
  },
  {
   "cell_type": "code",
   "execution_count": 3,
   "id": "a78d3f5e-d530-47f4-ae3c-aaffff7e12ce",
   "metadata": {},
   "outputs": [],
   "source": [
    "def reward_cal(row):\n",
    "    if row['age']>=90:\n",
    "        return row['favorite_food']\n",
    "    if (row[\"time_in_bed\"] >5 )& (row[\"pct_sleeping\"] > 0.5):\n",
    "        return row[\"favorite_food\"]\n",
    "    return row[\"hate_food\"]"
   ]
  },
  {
   "cell_type": "markdown",
   "id": "a5a95317-550c-4292-adc5-3d9909aacbad",
   "metadata": {},
   "source": [
    "# Level 1 - Using Iterations\n"
   ]
  },
  {
   "cell_type": "code",
   "execution_count": 12,
   "id": "aac04063-0532-492c-a1a1-c228a36f5ee3",
   "metadata": {},
   "outputs": [
    {
     "name": "stdout",
     "output_type": "stream",
     "text": [
      "1.06 s ± 27.3 ms per loop (mean ± std. dev. of 7 runs, 1 loop each)\n"
     ]
    }
   ],
   "source": [
    "# %%timeit # note if you add the magic command here, it won't output anything but the running time. \n",
    "\n",
    "df = get_data()\n",
    "for index, row in df.iterrows():\n",
    "    df.loc[index, 'reward'] = reward_cal(row)\n",
    "df"
   ]
  },
  {
   "cell_type": "code",
   "execution_count": 5,
   "id": "3e4420e2-3348-4e12-bc4f-60021227ac0e",
   "metadata": {},
   "outputs": [
    {
     "ename": "NameError",
     "evalue": "name 'df' is not defined",
     "output_type": "error",
     "traceback": [
      "\u001b[1;31m---------------------------------------------------------------------------\u001b[0m",
      "\u001b[1;31mNameError\u001b[0m                                 Traceback (most recent call last)",
      "Cell \u001b[1;32mIn[5], line 1\u001b[0m\n\u001b[1;32m----> 1\u001b[0m \u001b[38;5;28mprint\u001b[39m(\u001b[43mdf\u001b[49m)\n",
      "\u001b[1;31mNameError\u001b[0m: name 'df' is not defined"
     ]
    }
   ],
   "source": [
    "print(df)"
   ]
  },
  {
   "cell_type": "markdown",
   "id": "86374112-7111-493c-bf9d-ad68a22d38a9",
   "metadata": {},
   "source": [
    "# level 2 - Using pd.apply() method\n"
   ]
  },
  {
   "cell_type": "code",
   "execution_count": 13,
   "id": "9dc72878-3638-4a9d-83da-01475fbb47c5",
   "metadata": {},
   "outputs": [],
   "source": [
    "df1 = get_data()\n",
    "df1['reward'] = df.apply(reward_cal, axis = 1)"
   ]
  },
  {
   "cell_type": "code",
   "execution_count": 14,
   "id": "c300b8d5-2e0b-47c6-b956-4d89f1f13985",
   "metadata": {},
   "outputs": [
    {
     "data": {
      "text/html": [
       "<div>\n",
       "<style scoped>\n",
       "    .dataframe tbody tr th:only-of-type {\n",
       "        vertical-align: middle;\n",
       "    }\n",
       "\n",
       "    .dataframe tbody tr th {\n",
       "        vertical-align: top;\n",
       "    }\n",
       "\n",
       "    .dataframe thead th {\n",
       "        text-align: right;\n",
       "    }\n",
       "</style>\n",
       "<table border=\"1\" class=\"dataframe\">\n",
       "  <thead>\n",
       "    <tr style=\"text-align: right;\">\n",
       "      <th></th>\n",
       "      <th>age</th>\n",
       "      <th>time_in_bed</th>\n",
       "      <th>pct_sleeping</th>\n",
       "      <th>favorite_food</th>\n",
       "      <th>hate_food</th>\n",
       "      <th>reward</th>\n",
       "    </tr>\n",
       "  </thead>\n",
       "  <tbody>\n",
       "    <tr>\n",
       "      <th>0</th>\n",
       "      <td>39</td>\n",
       "      <td>3</td>\n",
       "      <td>0.469246</td>\n",
       "      <td>pizza</td>\n",
       "      <td>broccoli</td>\n",
       "      <td>candy corn</td>\n",
       "    </tr>\n",
       "    <tr>\n",
       "      <th>1</th>\n",
       "      <td>91</td>\n",
       "      <td>2</td>\n",
       "      <td>0.570891</td>\n",
       "      <td>ice-cream</td>\n",
       "      <td>eggs</td>\n",
       "      <td>candy corn</td>\n",
       "    </tr>\n",
       "    <tr>\n",
       "      <th>2</th>\n",
       "      <td>40</td>\n",
       "      <td>5</td>\n",
       "      <td>0.487683</td>\n",
       "      <td>taco</td>\n",
       "      <td>candy corn</td>\n",
       "      <td>eggs</td>\n",
       "    </tr>\n",
       "    <tr>\n",
       "      <th>3</th>\n",
       "      <td>28</td>\n",
       "      <td>7</td>\n",
       "      <td>0.725172</td>\n",
       "      <td>taco</td>\n",
       "      <td>broccoli</td>\n",
       "      <td>candy corn</td>\n",
       "    </tr>\n",
       "    <tr>\n",
       "      <th>4</th>\n",
       "      <td>88</td>\n",
       "      <td>7</td>\n",
       "      <td>0.858404</td>\n",
       "      <td>ice-cream</td>\n",
       "      <td>eggs</td>\n",
       "      <td>broccoli</td>\n",
       "    </tr>\n",
       "    <tr>\n",
       "      <th>...</th>\n",
       "      <td>...</td>\n",
       "      <td>...</td>\n",
       "      <td>...</td>\n",
       "      <td>...</td>\n",
       "      <td>...</td>\n",
       "      <td>...</td>\n",
       "    </tr>\n",
       "    <tr>\n",
       "      <th>9995</th>\n",
       "      <td>21</td>\n",
       "      <td>1</td>\n",
       "      <td>0.012305</td>\n",
       "      <td>taco</td>\n",
       "      <td>broccoli</td>\n",
       "      <td>eggs</td>\n",
       "    </tr>\n",
       "    <tr>\n",
       "      <th>9996</th>\n",
       "      <td>95</td>\n",
       "      <td>1</td>\n",
       "      <td>0.192751</td>\n",
       "      <td>ice-cream</td>\n",
       "      <td>broccoli</td>\n",
       "      <td>eggs</td>\n",
       "    </tr>\n",
       "    <tr>\n",
       "      <th>9997</th>\n",
       "      <td>77</td>\n",
       "      <td>1</td>\n",
       "      <td>0.604307</td>\n",
       "      <td>taco</td>\n",
       "      <td>candy corn</td>\n",
       "      <td>candy corn</td>\n",
       "    </tr>\n",
       "    <tr>\n",
       "      <th>9998</th>\n",
       "      <td>5</td>\n",
       "      <td>5</td>\n",
       "      <td>0.782849</td>\n",
       "      <td>pizza</td>\n",
       "      <td>broccoli</td>\n",
       "      <td>ice-cream</td>\n",
       "    </tr>\n",
       "    <tr>\n",
       "      <th>9999</th>\n",
       "      <td>61</td>\n",
       "      <td>0</td>\n",
       "      <td>0.093379</td>\n",
       "      <td>ice-cream</td>\n",
       "      <td>eggs</td>\n",
       "      <td>eggs</td>\n",
       "    </tr>\n",
       "  </tbody>\n",
       "</table>\n",
       "<p>10000 rows × 6 columns</p>\n",
       "</div>"
      ],
      "text/plain": [
       "      age  time_in_bed  pct_sleeping favorite_food   hate_food      reward\n",
       "0      39            3      0.469246         pizza    broccoli  candy corn\n",
       "1      91            2      0.570891     ice-cream        eggs  candy corn\n",
       "2      40            5      0.487683          taco  candy corn        eggs\n",
       "3      28            7      0.725172          taco    broccoli  candy corn\n",
       "4      88            7      0.858404     ice-cream        eggs    broccoli\n",
       "...   ...          ...           ...           ...         ...         ...\n",
       "9995   21            1      0.012305          taco    broccoli        eggs\n",
       "9996   95            1      0.192751     ice-cream    broccoli        eggs\n",
       "9997   77            1      0.604307          taco  candy corn  candy corn\n",
       "9998    5            5      0.782849         pizza    broccoli   ice-cream\n",
       "9999   61            0      0.093379     ice-cream        eggs        eggs\n",
       "\n",
       "[10000 rows x 6 columns]"
      ]
     },
     "execution_count": 14,
     "metadata": {},
     "output_type": "execute_result"
    }
   ],
   "source": [
    "df1"
   ]
  },
  {
   "cell_type": "markdown",
   "id": "831e9881-9068-4079-9065-a4da498b4702",
   "metadata": {},
   "source": [
    "# Level 3 - Vectorized fuctions"
   ]
  },
  {
   "cell_type": "code",
   "execution_count": 15,
   "id": "9804b6d4-5836-4514-a731-b8bc3694a6bf",
   "metadata": {},
   "outputs": [
    {
     "data": {
      "text/plain": [
       "0       False\n",
       "1       False\n",
       "2       False\n",
       "3       False\n",
       "4       False\n",
       "        ...  \n",
       "9995    False\n",
       "9996    False\n",
       "9997    False\n",
       "9998     True\n",
       "9999    False\n",
       "Length: 10000, dtype: bool"
      ]
     },
     "execution_count": 15,
     "metadata": {},
     "output_type": "execute_result"
    }
   ],
   "source": [
    "((df['pct_sleeping'] > 0.5) & (df['time_in_bed'] > 5)) | (df['age'] > 90)"
   ]
  },
  {
   "cell_type": "code",
   "execution_count": 20,
   "id": "b269b10a-5736-4fce-a166-67b7ef7400c4",
   "metadata": {},
   "outputs": [
    {
     "name": "stdout",
     "output_type": "stream",
     "text": [
      "6.51 ms ± 253 µs per loop (mean ± std. dev. of 7 runs, 100 loops each)\n"
     ]
    }
   ],
   "source": [
    "%%timeit\n",
    "df = get_data()\n",
    "df['reward'] = df['hate_food']\n",
    "df.loc[((df['pct_sleeping'] > 0.5) & \n",
    "        (df['time_in_bed'] > 5)) | \n",
    "        (df['age'] > 90), 'reward'] = df['favorite_food']"
   ]
  },
  {
   "cell_type": "markdown",
   "id": "f499b710-8b63-4421-b252-ee789ff6402b",
   "metadata": {},
   "source": [
    "# Efficient Memory use in Pandas\n"
   ]
  },
  {
   "cell_type": "code",
   "execution_count": 35,
   "id": "154b4cc9-c75a-4b10-b20e-8478b86561cd",
   "metadata": {},
   "outputs": [],
   "source": [
    "def get_data(size):\n",
    "    df = pd.DataFrame()\n",
    "    df['position'] = np.random.choice(['left','middle','right'],size)\n",
    "    df['age'] = np.random.randint(1, 50, size)\n",
    "    df['team'] = np.random.choice(['red','blue','yellow','green'], size)\n",
    "    df['win'] = np.random.choice(['yes','no'], size)\n",
    "    df['prob'] = np.random.uniform(0, 1, size)\n",
    "    return df"
   ]
  },
  {
   "cell_type": "code",
   "execution_count": 36,
   "id": "a1f7b5cb-cea7-43e8-a565-e2f3881e7077",
   "metadata": {},
   "outputs": [
    {
     "name": "stdout",
     "output_type": "stream",
     "text": [
      "<class 'pandas.core.frame.DataFrame'>\n",
      "RangeIndex: 1000000 entries, 0 to 999999\n",
      "Data columns (total 5 columns):\n",
      " #   Column    Non-Null Count    Dtype  \n",
      "---  ------    --------------    -----  \n",
      " 0   position  1000000 non-null  object \n",
      " 1   age       1000000 non-null  int32  \n",
      " 2   team      1000000 non-null  object \n",
      " 3   win       1000000 non-null  object \n",
      " 4   prob      1000000 non-null  float64\n",
      "dtypes: float64(1), int32(1), object(3)\n",
      "memory usage: 34.3+ MB\n"
     ]
    }
   ],
   "source": [
    "df = get_data(1000000)\n",
    "df.info()"
   ]
  },
  {
   "cell_type": "code",
   "execution_count": 26,
   "id": "abb55769-c1e1-46d9-8a25-5e47c2b70296",
   "metadata": {},
   "outputs": [
    {
     "name": "stdout",
     "output_type": "stream",
     "text": [
      "778 ms ± 20.4 ms per loop (mean ± std. dev. of 7 runs, 1 loop each)\n",
      "908 ms ± 121 ms per loop (mean ± std. dev. of 7 runs, 1 loop each)\n",
      "1.51 s ± 184 ms per loop (mean ± std. dev. of 7 runs, 1 loop each)\n"
     ]
    }
   ],
   "source": [
    "%timeit df['age_rank'] = df.groupby(['team','position'])['age'].rank()\n",
    "%timeit df['prob_rank'] = df.groupby(['team','position'])['prob'].rank()\n",
    "%timeit df['win_prob_rank'] = df.groupby(['team','position', 'win'])['prob'].rank()"
   ]
  },
  {
   "cell_type": "code",
   "execution_count": 29,
   "id": "215ab685-fa70-4c84-bafe-9d5a25dfab53",
   "metadata": {},
   "outputs": [
    {
     "data": {
      "text/html": [
       "<div>\n",
       "<style scoped>\n",
       "    .dataframe tbody tr th:only-of-type {\n",
       "        vertical-align: middle;\n",
       "    }\n",
       "\n",
       "    .dataframe tbody tr th {\n",
       "        vertical-align: top;\n",
       "    }\n",
       "\n",
       "    .dataframe thead th {\n",
       "        text-align: right;\n",
       "    }\n",
       "</style>\n",
       "<table border=\"1\" class=\"dataframe\">\n",
       "  <thead>\n",
       "    <tr style=\"text-align: right;\">\n",
       "      <th></th>\n",
       "      <th>position</th>\n",
       "      <th>age</th>\n",
       "      <th>team</th>\n",
       "      <th>win</th>\n",
       "      <th>prob</th>\n",
       "      <th>age_rank</th>\n",
       "      <th>prob_rank</th>\n",
       "      <th>win_prob_rank</th>\n",
       "    </tr>\n",
       "  </thead>\n",
       "  <tbody>\n",
       "    <tr>\n",
       "      <th>0</th>\n",
       "      <td>middle</td>\n",
       "      <td>45</td>\n",
       "      <td>red</td>\n",
       "      <td>no</td>\n",
       "      <td>0.331099</td>\n",
       "      <td>75951.0</td>\n",
       "      <td>27743.0</td>\n",
       "      <td>13781.0</td>\n",
       "    </tr>\n",
       "    <tr>\n",
       "      <th>1</th>\n",
       "      <td>middle</td>\n",
       "      <td>20</td>\n",
       "      <td>red</td>\n",
       "      <td>yes</td>\n",
       "      <td>0.923938</td>\n",
       "      <td>33229.0</td>\n",
       "      <td>77373.0</td>\n",
       "      <td>38862.0</td>\n",
       "    </tr>\n",
       "    <tr>\n",
       "      <th>2</th>\n",
       "      <td>middle</td>\n",
       "      <td>1</td>\n",
       "      <td>blue</td>\n",
       "      <td>yes</td>\n",
       "      <td>0.581535</td>\n",
       "      <td>826.0</td>\n",
       "      <td>48427.0</td>\n",
       "      <td>24312.0</td>\n",
       "    </tr>\n",
       "    <tr>\n",
       "      <th>3</th>\n",
       "      <td>right</td>\n",
       "      <td>25</td>\n",
       "      <td>blue</td>\n",
       "      <td>no</td>\n",
       "      <td>0.221528</td>\n",
       "      <td>41829.5</td>\n",
       "      <td>18557.0</td>\n",
       "      <td>9216.0</td>\n",
       "    </tr>\n",
       "    <tr>\n",
       "      <th>4</th>\n",
       "      <td>left</td>\n",
       "      <td>8</td>\n",
       "      <td>yellow</td>\n",
       "      <td>no</td>\n",
       "      <td>0.028998</td>\n",
       "      <td>12665.5</td>\n",
       "      <td>2396.0</td>\n",
       "      <td>1205.0</td>\n",
       "    </tr>\n",
       "    <tr>\n",
       "      <th>...</th>\n",
       "      <td>...</td>\n",
       "      <td>...</td>\n",
       "      <td>...</td>\n",
       "      <td>...</td>\n",
       "      <td>...</td>\n",
       "      <td>...</td>\n",
       "      <td>...</td>\n",
       "      <td>...</td>\n",
       "    </tr>\n",
       "    <tr>\n",
       "      <th>95</th>\n",
       "      <td>right</td>\n",
       "      <td>45</td>\n",
       "      <td>red</td>\n",
       "      <td>yes</td>\n",
       "      <td>0.512822</td>\n",
       "      <td>75556.0</td>\n",
       "      <td>42776.0</td>\n",
       "      <td>21382.0</td>\n",
       "    </tr>\n",
       "    <tr>\n",
       "      <th>96</th>\n",
       "      <td>left</td>\n",
       "      <td>15</td>\n",
       "      <td>blue</td>\n",
       "      <td>no</td>\n",
       "      <td>0.229952</td>\n",
       "      <td>24358.0</td>\n",
       "      <td>19113.0</td>\n",
       "      <td>9564.0</td>\n",
       "    </tr>\n",
       "    <tr>\n",
       "      <th>97</th>\n",
       "      <td>middle</td>\n",
       "      <td>17</td>\n",
       "      <td>green</td>\n",
       "      <td>yes</td>\n",
       "      <td>0.980846</td>\n",
       "      <td>28140.0</td>\n",
       "      <td>82171.0</td>\n",
       "      <td>41165.0</td>\n",
       "    </tr>\n",
       "    <tr>\n",
       "      <th>98</th>\n",
       "      <td>right</td>\n",
       "      <td>20</td>\n",
       "      <td>red</td>\n",
       "      <td>no</td>\n",
       "      <td>0.584908</td>\n",
       "      <td>32989.0</td>\n",
       "      <td>48620.0</td>\n",
       "      <td>24330.0</td>\n",
       "    </tr>\n",
       "    <tr>\n",
       "      <th>99</th>\n",
       "      <td>right</td>\n",
       "      <td>26</td>\n",
       "      <td>blue</td>\n",
       "      <td>yes</td>\n",
       "      <td>0.534315</td>\n",
       "      <td>43552.0</td>\n",
       "      <td>44796.0</td>\n",
       "      <td>22490.0</td>\n",
       "    </tr>\n",
       "  </tbody>\n",
       "</table>\n",
       "<p>100 rows × 8 columns</p>\n",
       "</div>"
      ],
      "text/plain": [
       "   position  age    team  win      prob  age_rank  prob_rank  win_prob_rank\n",
       "0    middle   45     red   no  0.331099   75951.0    27743.0        13781.0\n",
       "1    middle   20     red  yes  0.923938   33229.0    77373.0        38862.0\n",
       "2    middle    1    blue  yes  0.581535     826.0    48427.0        24312.0\n",
       "3     right   25    blue   no  0.221528   41829.5    18557.0         9216.0\n",
       "4      left    8  yellow   no  0.028998   12665.5     2396.0         1205.0\n",
       "..      ...  ...     ...  ...       ...       ...        ...            ...\n",
       "95    right   45     red  yes  0.512822   75556.0    42776.0        21382.0\n",
       "96     left   15    blue   no  0.229952   24358.0    19113.0         9564.0\n",
       "97   middle   17   green  yes  0.980846   28140.0    82171.0        41165.0\n",
       "98    right   20     red   no  0.584908   32989.0    48620.0        24330.0\n",
       "99    right   26    blue  yes  0.534315   43552.0    44796.0        22490.0\n",
       "\n",
       "[100 rows x 8 columns]"
      ]
     },
     "execution_count": 29,
     "metadata": {},
     "output_type": "execute_result"
    }
   ],
   "source": [
    "df[0:100] # need to make sure you understand the group by functio and what's the output look like. "
   ]
  },
  {
   "cell_type": "code",
   "execution_count": 33,
   "id": "cd1f3f7e-27c2-412d-9f6b-5fffc5717b82",
   "metadata": {},
   "outputs": [
    {
     "data": {
      "text/plain": [
       "str"
      ]
     },
     "execution_count": 33,
     "metadata": {},
     "output_type": "execute_result"
    }
   ],
   "source": [
    "type(df.loc[0,'position'])"
   ]
  },
  {
   "cell_type": "code",
   "execution_count": 38,
   "id": "b8cf57cf-a073-4a60-87bf-39b73e01b658",
   "metadata": {},
   "outputs": [
    {
     "name": "stdout",
     "output_type": "stream",
     "text": [
      "<class 'pandas.core.frame.DataFrame'>\n",
      "RangeIndex: 1000000 entries, 0 to 999999\n",
      "Data columns (total 5 columns):\n",
      " #   Column    Non-Null Count    Dtype   \n",
      "---  ------    --------------    -----   \n",
      " 0   position  1000000 non-null  category\n",
      " 1   age       1000000 non-null  int32   \n",
      " 2   team      1000000 non-null  category\n",
      " 3   win       1000000 non-null  object  \n",
      " 4   prob      1000000 non-null  float64 \n",
      "dtypes: category(2), float64(1), int32(1), object(1)\n",
      "memory usage: 21.0+ MB\n"
     ]
    }
   ],
   "source": [
    "df['position'] = df['position'].astype('category')\n",
    "df['team'] = df['team'].astype('category')\n",
    "df.info()"
   ]
  },
  {
   "cell_type": "markdown",
   "id": "33690794-90d7-4ffa-b080-f3b68b8995c7",
   "metadata": {},
   "source": [
    "# int downcasting value range"
   ]
  },
  {
   "cell_type": "code",
   "execution_count": null,
   "id": "8beb0f4c-80fe-40e3-8b4c-2b14fef628d6",
   "metadata": {},
   "outputs": [],
   "source": [
    "# int8 can store integers form -128 to 127\n",
    "# int16 can store integers from -32k to 32k"
   ]
  },
  {
   "cell_type": "code",
   "execution_count": 40,
   "id": "614909be-f363-4dfd-b96a-c9b64ac02fc1",
   "metadata": {},
   "outputs": [
    {
     "name": "stdout",
     "output_type": "stream",
     "text": [
      "1\n",
      "49\n"
     ]
    }
   ],
   "source": [
    "print(df['age'].min())\n",
    "print(df['age'].max())"
   ]
  },
  {
   "cell_type": "code",
   "execution_count": 42,
   "id": "bb596294-a74b-474e-abda-5e08d37bcc2b",
   "metadata": {},
   "outputs": [
    {
     "name": "stdout",
     "output_type": "stream",
     "text": [
      "<class 'pandas.core.frame.DataFrame'>\n",
      "RangeIndex: 1000000 entries, 0 to 999999\n",
      "Data columns (total 5 columns):\n",
      " #   Column    Non-Null Count    Dtype   \n",
      "---  ------    --------------    -----   \n",
      " 0   position  1000000 non-null  category\n",
      " 1   age       1000000 non-null  int8    \n",
      " 2   team      1000000 non-null  category\n",
      " 3   win       1000000 non-null  object  \n",
      " 4   prob      1000000 non-null  float32 \n",
      "dtypes: category(2), float32(1), int8(1), object(1)\n",
      "memory usage: 14.3+ MB\n"
     ]
    }
   ],
   "source": [
    "df['age'] = df['age'].astype('int8')\n",
    "df['prob'] = df['prob'].astype('float32')\n",
    "df.info()"
   ]
  },
  {
   "cell_type": "markdown",
   "id": "cd88ea1f-e2cf-4b7f-86bf-c6a2dba5280d",
   "metadata": {},
   "source": [
    "# Casting bool (true/false)"
   ]
  },
  {
   "cell_type": "code",
   "execution_count": 43,
   "id": "09da4a5c-f259-4330-a21e-36dff263c3d5",
   "metadata": {},
   "outputs": [
    {
     "name": "stdout",
     "output_type": "stream",
     "text": [
      "<class 'pandas.core.frame.DataFrame'>\n",
      "RangeIndex: 1000000 entries, 0 to 999999\n",
      "Data columns (total 5 columns):\n",
      " #   Column    Non-Null Count    Dtype   \n",
      "---  ------    --------------    -----   \n",
      " 0   position  1000000 non-null  category\n",
      " 1   age       1000000 non-null  int8    \n",
      " 2   team      1000000 non-null  category\n",
      " 3   win       1000000 non-null  bool    \n",
      " 4   prob      1000000 non-null  float32 \n",
      "dtypes: bool(1), category(2), float32(1), int8(1)\n",
      "memory usage: 7.6 MB\n"
     ]
    }
   ],
   "source": [
    "df['win'] = df['win'].astype(bool)\n",
    "df.info()"
   ]
  },
  {
   "cell_type": "markdown",
   "id": "c8e03c34-6c64-4813-851f-580de789db1c",
   "metadata": {},
   "source": [
    "# Summary set_dtypes() function"
   ]
  },
  {
   "cell_type": "code",
   "execution_count": 50,
   "id": "f7ea32cf-6f9e-4b09-8593-9222c9d3b396",
   "metadata": {},
   "outputs": [],
   "source": [
    "def set_dtypes(df):\n",
    "    df['position'] = df['position'].astype('category')\n",
    "    df['team'] = df['team'].astype('category')\n",
    "    df['age'] = df['age'].astype('int8')\n",
    "    df['prob'] = df['prob'].astype('float32')\n",
    "    df['win'] = df['win'].astype(\"bool\")\n",
    "    return df"
   ]
  },
  {
   "cell_type": "code",
   "execution_count": 46,
   "id": "b29e3137-cc15-4e44-bc1e-992b440221df",
   "metadata": {},
   "outputs": [
    {
     "name": "stdout",
     "output_type": "stream",
     "text": [
      "15.3 s ± 1.34 s per loop (mean ± std. dev. of 7 runs, 1 loop each)\n",
      "17.4 s ± 1.6 s per loop (mean ± std. dev. of 7 runs, 1 loop each)\n",
      "16.6 s ± 222 ms per loop (mean ± std. dev. of 7 runs, 1 loop each)\n"
     ]
    }
   ],
   "source": [
    "df = get_data(10_000_000)\n",
    "%timeit df['age_rank'] = df.groupby(['team','position'])['age'].rank()\n",
    "%timeit df['prob_rank'] = df.groupby(['team','position'])['prob'].rank()\n",
    "%timeit df['win_prob_rank'] = df.groupby(['team','position', 'win'])['prob'].rank()"
   ]
  },
  {
   "cell_type": "code",
   "execution_count": 45,
   "id": "c3e5c63a-9b27-4a2d-912a-ce254cbd2472",
   "metadata": {},
   "outputs": [
    {
     "data": {
      "text/html": [
       "<div>\n",
       "<style scoped>\n",
       "    .dataframe tbody tr th:only-of-type {\n",
       "        vertical-align: middle;\n",
       "    }\n",
       "\n",
       "    .dataframe tbody tr th {\n",
       "        vertical-align: top;\n",
       "    }\n",
       "\n",
       "    .dataframe thead th {\n",
       "        text-align: right;\n",
       "    }\n",
       "</style>\n",
       "<table border=\"1\" class=\"dataframe\">\n",
       "  <thead>\n",
       "    <tr style=\"text-align: right;\">\n",
       "      <th></th>\n",
       "      <th>position</th>\n",
       "      <th>age</th>\n",
       "      <th>team</th>\n",
       "      <th>win</th>\n",
       "      <th>prob</th>\n",
       "      <th>age_rank</th>\n",
       "      <th>prob_rank</th>\n",
       "      <th>win_prob_rank</th>\n",
       "    </tr>\n",
       "  </thead>\n",
       "  <tbody>\n",
       "    <tr>\n",
       "      <th>0</th>\n",
       "      <td>right</td>\n",
       "      <td>19</td>\n",
       "      <td>green</td>\n",
       "      <td>True</td>\n",
       "      <td>0.366544</td>\n",
       "      <td>31393.0</td>\n",
       "      <td>30248.0</td>\n",
       "      <td>30248.0</td>\n",
       "    </tr>\n",
       "    <tr>\n",
       "      <th>1</th>\n",
       "      <td>right</td>\n",
       "      <td>11</td>\n",
       "      <td>red</td>\n",
       "      <td>True</td>\n",
       "      <td>0.019113</td>\n",
       "      <td>17526.5</td>\n",
       "      <td>1543.0</td>\n",
       "      <td>1543.0</td>\n",
       "    </tr>\n",
       "    <tr>\n",
       "      <th>2</th>\n",
       "      <td>left</td>\n",
       "      <td>28</td>\n",
       "      <td>blue</td>\n",
       "      <td>True</td>\n",
       "      <td>0.613237</td>\n",
       "      <td>46730.5</td>\n",
       "      <td>51124.0</td>\n",
       "      <td>51124.0</td>\n",
       "    </tr>\n",
       "    <tr>\n",
       "      <th>3</th>\n",
       "      <td>right</td>\n",
       "      <td>23</td>\n",
       "      <td>blue</td>\n",
       "      <td>True</td>\n",
       "      <td>0.375346</td>\n",
       "      <td>38065.0</td>\n",
       "      <td>31163.0</td>\n",
       "      <td>31163.0</td>\n",
       "    </tr>\n",
       "    <tr>\n",
       "      <th>4</th>\n",
       "      <td>left</td>\n",
       "      <td>3</td>\n",
       "      <td>green</td>\n",
       "      <td>True</td>\n",
       "      <td>0.431554</td>\n",
       "      <td>4252.0</td>\n",
       "      <td>35805.0</td>\n",
       "      <td>35805.0</td>\n",
       "    </tr>\n",
       "    <tr>\n",
       "      <th>...</th>\n",
       "      <td>...</td>\n",
       "      <td>...</td>\n",
       "      <td>...</td>\n",
       "      <td>...</td>\n",
       "      <td>...</td>\n",
       "      <td>...</td>\n",
       "      <td>...</td>\n",
       "      <td>...</td>\n",
       "    </tr>\n",
       "    <tr>\n",
       "      <th>999995</th>\n",
       "      <td>left</td>\n",
       "      <td>14</td>\n",
       "      <td>green</td>\n",
       "      <td>True</td>\n",
       "      <td>0.911444</td>\n",
       "      <td>22985.5</td>\n",
       "      <td>75985.0</td>\n",
       "      <td>75985.0</td>\n",
       "    </tr>\n",
       "    <tr>\n",
       "      <th>999996</th>\n",
       "      <td>middle</td>\n",
       "      <td>19</td>\n",
       "      <td>green</td>\n",
       "      <td>True</td>\n",
       "      <td>0.658459</td>\n",
       "      <td>31029.5</td>\n",
       "      <td>54831.0</td>\n",
       "      <td>54831.0</td>\n",
       "    </tr>\n",
       "    <tr>\n",
       "      <th>999997</th>\n",
       "      <td>right</td>\n",
       "      <td>41</td>\n",
       "      <td>green</td>\n",
       "      <td>True</td>\n",
       "      <td>0.325279</td>\n",
       "      <td>68770.5</td>\n",
       "      <td>26850.0</td>\n",
       "      <td>26850.0</td>\n",
       "    </tr>\n",
       "    <tr>\n",
       "      <th>999998</th>\n",
       "      <td>middle</td>\n",
       "      <td>29</td>\n",
       "      <td>red</td>\n",
       "      <td>True</td>\n",
       "      <td>0.525861</td>\n",
       "      <td>48255.0</td>\n",
       "      <td>43447.0</td>\n",
       "      <td>43447.0</td>\n",
       "    </tr>\n",
       "    <tr>\n",
       "      <th>999999</th>\n",
       "      <td>left</td>\n",
       "      <td>20</td>\n",
       "      <td>green</td>\n",
       "      <td>True</td>\n",
       "      <td>0.087788</td>\n",
       "      <td>33162.5</td>\n",
       "      <td>7211.0</td>\n",
       "      <td>7211.0</td>\n",
       "    </tr>\n",
       "  </tbody>\n",
       "</table>\n",
       "<p>1000000 rows × 8 columns</p>\n",
       "</div>"
      ],
      "text/plain": [
       "       position  age   team   win      prob  age_rank  prob_rank  \\\n",
       "0         right   19  green  True  0.366544   31393.0    30248.0   \n",
       "1         right   11    red  True  0.019113   17526.5     1543.0   \n",
       "2          left   28   blue  True  0.613237   46730.5    51124.0   \n",
       "3         right   23   blue  True  0.375346   38065.0    31163.0   \n",
       "4          left    3  green  True  0.431554    4252.0    35805.0   \n",
       "...         ...  ...    ...   ...       ...       ...        ...   \n",
       "999995     left   14  green  True  0.911444   22985.5    75985.0   \n",
       "999996   middle   19  green  True  0.658459   31029.5    54831.0   \n",
       "999997    right   41  green  True  0.325279   68770.5    26850.0   \n",
       "999998   middle   29    red  True  0.525861   48255.0    43447.0   \n",
       "999999     left   20  green  True  0.087788   33162.5     7211.0   \n",
       "\n",
       "        win_prob_rank  \n",
       "0             30248.0  \n",
       "1              1543.0  \n",
       "2             51124.0  \n",
       "3             31163.0  \n",
       "4             35805.0  \n",
       "...               ...  \n",
       "999995        75985.0  \n",
       "999996        54831.0  \n",
       "999997        26850.0  \n",
       "999998        43447.0  \n",
       "999999         7211.0  \n",
       "\n",
       "[1000000 rows x 8 columns]"
      ]
     },
     "execution_count": 45,
     "metadata": {},
     "output_type": "execute_result"
    }
   ],
   "source": [
    "df"
   ]
  },
  {
   "cell_type": "code",
   "execution_count": 51,
   "id": "272b283a-30d7-4ffe-97ae-7c9683ef1428",
   "metadata": {},
   "outputs": [
    {
     "name": "stderr",
     "output_type": "stream",
     "text": [
      "<magic-timeit>:1: FutureWarning: The default of observed=False is deprecated and will be changed to True in a future version of pandas. Pass observed=False to retain current behavior or observed=True to adopt the future default and silence this warning.\n",
      "<magic-timeit>:1: FutureWarning: The default of observed=False is deprecated and will be changed to True in a future version of pandas. Pass observed=False to retain current behavior or observed=True to adopt the future default and silence this warning.\n"
     ]
    },
    {
     "name": "stdout",
     "output_type": "stream",
     "text": [
      "9.84 s ± 156 ms per loop (mean ± std. dev. of 7 runs, 1 loop each)\n"
     ]
    },
    {
     "name": "stderr",
     "output_type": "stream",
     "text": [
      "<magic-timeit>:1: FutureWarning: The default of observed=False is deprecated and will be changed to True in a future version of pandas. Pass observed=False to retain current behavior or observed=True to adopt the future default and silence this warning.\n"
     ]
    },
    {
     "name": "stdout",
     "output_type": "stream",
     "text": [
      "13.8 s ± 139 ms per loop (mean ± std. dev. of 7 runs, 1 loop each)\n"
     ]
    },
    {
     "name": "stderr",
     "output_type": "stream",
     "text": [
      "<magic-timeit>:1: FutureWarning: The default of observed=False is deprecated and will be changed to True in a future version of pandas. Pass observed=False to retain current behavior or observed=True to adopt the future default and silence this warning.\n"
     ]
    },
    {
     "name": "stdout",
     "output_type": "stream",
     "text": [
      "14 s ± 259 ms per loop (mean ± std. dev. of 7 runs, 1 loop each)\n"
     ]
    }
   ],
   "source": [
    "df = get_data(10_000_000)\n",
    "df = set_dtypes(df)\n",
    "%timeit df['age_rank'] = df.groupby(['team','position'])['age'].rank()\n",
    "%timeit df['prob_rank'] = df.groupby(['team','position'])['prob'].rank()\n",
    "%timeit df['win_prob_rank'] = df.groupby(['team','position', 'win'])['prob'].rank()"
   ]
  },
  {
   "cell_type": "markdown",
   "id": "f1de0fdf-4799-4c52-8b7a-1d5d42a2440b",
   "metadata": {},
   "source": [
    "# Other methods"
   ]
  },
  {
   "cell_type": "code",
   "execution_count": null,
   "id": "6c8f768f-7237-4746-97df-cacb1202dc1f",
   "metadata": {},
   "outputs": [],
   "source": [
    "1. use nrows when reading data for a sample to understand the data. # use df.info(verbose = False, memory_usage = 'deep') to check the summary info.  \n",
    "2. select only relevant columns in the dataset. \n",
    "3. check the max and min of the dataset, use df.describe(), then convert certain datatypes.\n",
    "4. You can wrap up the above and summarize them when read_csv: df = pd.read_csv(\"xx\", usecols = req_cols, dtype = {'Region':'category', 'Units':'int16'})\n"
   ]
  },
  {
   "cell_type": "markdown",
   "id": "fb7d6a29-79d0-470c-876e-dfcb76c077ea",
   "metadata": {},
   "source": [
    "# Loading data with chunks"
   ]
  },
  {
   "cell_type": "code",
   "execution_count": null,
   "id": "9d383748-aa64-47c1-b4b7-8f6212f62956",
   "metadata": {},
   "outputs": [],
   "source": [
    "chunks = pd.read_csv('', iterator = True, chunksize - 1000)"
   ]
  },
  {
   "cell_type": "markdown",
   "id": "6be54f77-e0ac-4280-aafb-ba66c4d0f945",
   "metadata": {},
   "source": [
    "# CSV"
   ]
  },
  {
   "cell_type": "code",
   "execution_count": 1,
   "id": "2434220f-b788-4d15-9c0a-afdbbcad7a50",
   "metadata": {},
   "outputs": [
    {
     "ename": "NameError",
     "evalue": "name 'df' is not defined",
     "output_type": "error",
     "traceback": [
      "\u001b[1;31m---------------------------------------------------------------------------\u001b[0m",
      "\u001b[1;31mNameError\u001b[0m                                 Traceback (most recent call last)",
      "Cell \u001b[1;32mIn[1], line 1\u001b[0m\n\u001b[1;32m----> 1\u001b[0m \u001b[43mdf\u001b[49m\n",
      "\u001b[1;31mNameError\u001b[0m: name 'df' is not defined"
     ]
    }
   ],
   "source": [
    "# if the user is an excel user, save the file as a csv. file is better. "
   ]
  },
  {
   "cell_type": "markdown",
   "id": "4d5b8dd6-ac89-4209-8693-8fec18b9f67c",
   "metadata": {},
   "source": [
    "# Pickle file"
   ]
  },
  {
   "cell_type": "code",
   "execution_count": null,
   "id": "68ceee99-2a34-468a-9f12-214905c58e58",
   "metadata": {},
   "outputs": [],
   "source": [
    "pd.to_pickle()\n",
    "pd.read_pickle()"
   ]
  },
  {
   "cell_type": "markdown",
   "id": "b108d9f3-4513-44c7-bc79-b21e3384b439",
   "metadata": {},
   "source": [
    "# Parquet file"
   ]
  },
  {
   "cell_type": "code",
   "execution_count": null,
   "id": "cef3aeb9-8341-4692-b2b0-5b8777f39d0e",
   "metadata": {},
   "outputs": [],
   "source": [
    "pip install pyarrow\n",
    "pip install fastparquet\n",
    "pd.to_parquet()\n",
    "pd.read_parquet()"
   ]
  },
  {
   "cell_type": "markdown",
   "id": "f3d4fb61-7186-4d82-a331-35eb5ce64ff0",
   "metadata": {},
   "source": [
    "# Feather file"
   ]
  },
  {
   "cell_type": "code",
   "execution_count": 2,
   "id": "cc5a1f37-7399-40c5-a016-9540f2970c7e",
   "metadata": {},
   "outputs": [],
   "source": [
    "# better of short-term storage."
   ]
  },
  {
   "cell_type": "code",
   "execution_count": null,
   "id": "8fc60f5c-1a37-4a90-8622-7623fecf6432",
   "metadata": {},
   "outputs": [],
   "source": []
  }
 ],
 "metadata": {
  "kernelspec": {
   "display_name": "Python 3 (ipykernel)",
   "language": "python",
   "name": "python3"
  },
  "language_info": {
   "codemirror_mode": {
    "name": "ipython",
    "version": 3
   },
   "file_extension": ".py",
   "mimetype": "text/x-python",
   "name": "python",
   "nbconvert_exporter": "python",
   "pygments_lexer": "ipython3",
   "version": "3.12.0"
  }
 },
 "nbformat": 4,
 "nbformat_minor": 5
}
