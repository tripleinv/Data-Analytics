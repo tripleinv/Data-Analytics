{
 "cells": [
  {
   "cell_type": "code",
   "execution_count": 108,
   "id": "e6b34aba-e383-4893-a7d0-f1c45d4ca6aa",
   "metadata": {},
   "outputs": [],
   "source": [
    "import numpy as np\n",
    "import pandas as pd\n",
    "import datetime as dt\n",
    "import matplotlib.pyplot as plt\n",
    "import matplotlib.ticker as mtick"
   ]
  },
  {
   "cell_type": "code",
   "execution_count": 2,
   "id": "737edf07-977f-4e0c-b445-bc5f36e8dfb0",
   "metadata": {},
   "outputs": [],
   "source": [
    "import yfinance as yf"
   ]
  },
  {
   "cell_type": "code",
   "execution_count": 118,
   "id": "76873731-6915-40a6-84da-3d30a0ffffbd",
   "metadata": {},
   "outputs": [],
   "source": [
    "from fredapi import Fred"
   ]
  },
  {
   "cell_type": "code",
   "execution_count": 45,
   "id": "2f9150a8-3d8a-4210-a117-b0cf385f4675",
   "metadata": {},
   "outputs": [
    {
     "name": "stdout",
     "output_type": "stream",
     "text": [
      "[*********************100%%**********************]  1 of 1 completed\n"
     ]
    },
    {
     "data": {
      "text/plain": [
       "Index(['Open', 'High', 'Low', 'Close', 'Adj Close', 'Volume'], dtype='object')"
      ]
     },
     "execution_count": 45,
     "metadata": {},
     "output_type": "execute_result"
    }
   ],
   "source": [
    "ticker_symbol = '^GSPC'\n",
    "\n",
    "sp500_data = yf.download(ticker_symbol, start = '1956-01-01', end = '2023-12-31')\n",
    "sp500_data.columns"
   ]
  },
  {
   "cell_type": "code",
   "execution_count": 95,
   "id": "9621ef3e-d758-4b0b-a6f7-f81ff36b0c70",
   "metadata": {},
   "outputs": [
    {
     "data": {
      "text/html": [
       "<div>\n",
       "<style scoped>\n",
       "    .dataframe tbody tr th:only-of-type {\n",
       "        vertical-align: middle;\n",
       "    }\n",
       "\n",
       "    .dataframe tbody tr th {\n",
       "        vertical-align: top;\n",
       "    }\n",
       "\n",
       "    .dataframe thead th {\n",
       "        text-align: right;\n",
       "    }\n",
       "</style>\n",
       "<table border=\"1\" class=\"dataframe\">\n",
       "  <thead>\n",
       "    <tr style=\"text-align: right;\">\n",
       "      <th></th>\n",
       "      <th>Adj Close</th>\n",
       "    </tr>\n",
       "    <tr>\n",
       "      <th>Date</th>\n",
       "      <th></th>\n",
       "    </tr>\n",
       "  </thead>\n",
       "  <tbody>\n",
       "    <tr>\n",
       "      <th>1956-12-31</th>\n",
       "      <td>46.669998</td>\n",
       "    </tr>\n",
       "    <tr>\n",
       "      <th>1957-12-31</th>\n",
       "      <td>39.990002</td>\n",
       "    </tr>\n",
       "    <tr>\n",
       "      <th>1958-12-31</th>\n",
       "      <td>55.209999</td>\n",
       "    </tr>\n",
       "    <tr>\n",
       "      <th>1959-12-31</th>\n",
       "      <td>59.889999</td>\n",
       "    </tr>\n",
       "    <tr>\n",
       "      <th>1960-12-31</th>\n",
       "      <td>58.110001</td>\n",
       "    </tr>\n",
       "    <tr>\n",
       "      <th>...</th>\n",
       "      <td>...</td>\n",
       "    </tr>\n",
       "    <tr>\n",
       "      <th>2019-12-31</th>\n",
       "      <td>3230.780029</td>\n",
       "    </tr>\n",
       "    <tr>\n",
       "      <th>2020-12-31</th>\n",
       "      <td>3756.070068</td>\n",
       "    </tr>\n",
       "    <tr>\n",
       "      <th>2021-12-31</th>\n",
       "      <td>4766.180176</td>\n",
       "    </tr>\n",
       "    <tr>\n",
       "      <th>2022-12-31</th>\n",
       "      <td>3839.500000</td>\n",
       "    </tr>\n",
       "    <tr>\n",
       "      <th>2023-12-31</th>\n",
       "      <td>4769.830078</td>\n",
       "    </tr>\n",
       "  </tbody>\n",
       "</table>\n",
       "<p>68 rows × 1 columns</p>\n",
       "</div>"
      ],
      "text/plain": [
       "              Adj Close\n",
       "Date                   \n",
       "1956-12-31    46.669998\n",
       "1957-12-31    39.990002\n",
       "1958-12-31    55.209999\n",
       "1959-12-31    59.889999\n",
       "1960-12-31    58.110001\n",
       "...                 ...\n",
       "2019-12-31  3230.780029\n",
       "2020-12-31  3756.070068\n",
       "2021-12-31  4766.180176\n",
       "2022-12-31  3839.500000\n",
       "2023-12-31  4769.830078\n",
       "\n",
       "[68 rows x 1 columns]"
      ]
     },
     "execution_count": 95,
     "metadata": {},
     "output_type": "execute_result"
    }
   ],
   "source": [
    "sp500_data['Adj Close'] = sp500_data['Adj Close'].astype('float32')\n",
    "yearly_data = sp500_data['Adj Close'].resample('Y').last()\n",
    "isinstance(yearly_data, pd.Series)\n",
    "sp500_df = pd.DataFrame(yearly_data)\n",
    "sp500_df"
   ]
  },
  {
   "cell_type": "code",
   "execution_count": 102,
   "id": "65ae4e50-d999-4a4c-8f84-9792e8d99d79",
   "metadata": {},
   "outputs": [
    {
     "data": {
      "text/html": [
       "<div>\n",
       "<style scoped>\n",
       "    .dataframe tbody tr th:only-of-type {\n",
       "        vertical-align: middle;\n",
       "    }\n",
       "\n",
       "    .dataframe tbody tr th {\n",
       "        vertical-align: top;\n",
       "    }\n",
       "\n",
       "    .dataframe thead th {\n",
       "        text-align: right;\n",
       "    }\n",
       "</style>\n",
       "<table border=\"1\" class=\"dataframe\">\n",
       "  <thead>\n",
       "    <tr style=\"text-align: right;\">\n",
       "      <th></th>\n",
       "      <th>Adj Close</th>\n",
       "      <th>CAGR</th>\n",
       "      <th>President</th>\n",
       "      <th>Political_Party</th>\n",
       "    </tr>\n",
       "    <tr>\n",
       "      <th>Date</th>\n",
       "      <th></th>\n",
       "      <th></th>\n",
       "      <th></th>\n",
       "      <th></th>\n",
       "    </tr>\n",
       "  </thead>\n",
       "  <tbody>\n",
       "    <tr>\n",
       "      <th>1956-12-31</th>\n",
       "      <td>46.669998</td>\n",
       "      <td>NaN</td>\n",
       "      <td>Dwight_Eisenhower_R</td>\n",
       "      <td>R</td>\n",
       "    </tr>\n",
       "    <tr>\n",
       "      <th>1957-12-31</th>\n",
       "      <td>39.990002</td>\n",
       "      <td>-0.143133</td>\n",
       "      <td>Dwight_Eisenhower_R</td>\n",
       "      <td>R</td>\n",
       "    </tr>\n",
       "    <tr>\n",
       "      <th>1958-12-31</th>\n",
       "      <td>55.209999</td>\n",
       "      <td>0.380595</td>\n",
       "      <td>Dwight_Eisenhower_R</td>\n",
       "      <td>R</td>\n",
       "    </tr>\n",
       "    <tr>\n",
       "      <th>1959-12-31</th>\n",
       "      <td>59.889999</td>\n",
       "      <td>0.084767</td>\n",
       "      <td>Dwight_Eisenhower_R</td>\n",
       "      <td>R</td>\n",
       "    </tr>\n",
       "    <tr>\n",
       "      <th>1960-12-31</th>\n",
       "      <td>58.110001</td>\n",
       "      <td>-0.029721</td>\n",
       "      <td>Dwight_Eisenhower_R</td>\n",
       "      <td>R</td>\n",
       "    </tr>\n",
       "    <tr>\n",
       "      <th>...</th>\n",
       "      <td>...</td>\n",
       "      <td>...</td>\n",
       "      <td>...</td>\n",
       "      <td>...</td>\n",
       "    </tr>\n",
       "    <tr>\n",
       "      <th>2019-12-31</th>\n",
       "      <td>3230.780029</td>\n",
       "      <td>0.288781</td>\n",
       "      <td>Donald_Trump_R</td>\n",
       "      <td>R</td>\n",
       "    </tr>\n",
       "    <tr>\n",
       "      <th>2020-12-31</th>\n",
       "      <td>3756.070068</td>\n",
       "      <td>0.162589</td>\n",
       "      <td>Donald_Trump_R</td>\n",
       "      <td>R</td>\n",
       "    </tr>\n",
       "    <tr>\n",
       "      <th>2021-12-31</th>\n",
       "      <td>4766.180176</td>\n",
       "      <td>0.268927</td>\n",
       "      <td>Joe_Biden_D</td>\n",
       "      <td>D</td>\n",
       "    </tr>\n",
       "    <tr>\n",
       "      <th>2022-12-31</th>\n",
       "      <td>3839.500000</td>\n",
       "      <td>-0.194428</td>\n",
       "      <td>Joe_Biden_D</td>\n",
       "      <td>D</td>\n",
       "    </tr>\n",
       "    <tr>\n",
       "      <th>2023-12-31</th>\n",
       "      <td>4769.830078</td>\n",
       "      <td>0.242305</td>\n",
       "      <td>Joe_Biden_D</td>\n",
       "      <td>D</td>\n",
       "    </tr>\n",
       "  </tbody>\n",
       "</table>\n",
       "<p>68 rows × 4 columns</p>\n",
       "</div>"
      ],
      "text/plain": [
       "              Adj Close      CAGR            President Political_Party\n",
       "Date                                                                  \n",
       "1956-12-31    46.669998       NaN  Dwight_Eisenhower_R               R\n",
       "1957-12-31    39.990002 -0.143133  Dwight_Eisenhower_R               R\n",
       "1958-12-31    55.209999  0.380595  Dwight_Eisenhower_R               R\n",
       "1959-12-31    59.889999  0.084767  Dwight_Eisenhower_R               R\n",
       "1960-12-31    58.110001 -0.029721  Dwight_Eisenhower_R               R\n",
       "...                 ...       ...                  ...             ...\n",
       "2019-12-31  3230.780029  0.288781       Donald_Trump_R               R\n",
       "2020-12-31  3756.070068  0.162589       Donald_Trump_R               R\n",
       "2021-12-31  4766.180176  0.268927          Joe_Biden_D               D\n",
       "2022-12-31  3839.500000 -0.194428          Joe_Biden_D               D\n",
       "2023-12-31  4769.830078  0.242305          Joe_Biden_D               D\n",
       "\n",
       "[68 rows x 4 columns]"
      ]
     },
     "execution_count": 102,
     "metadata": {},
     "output_type": "execute_result"
    }
   ],
   "source": [
    "sp500_df[\"CAGR\"] = sp500_df['Adj Close']/(sp500_df['Adj Close'].shift(1)) - 1\n",
    "\n",
    "sp500_df['President'] = ''\n",
    "\n",
    "sp500_df.loc[sp500_df.index < dt.datetime(1961, 1, 20), 'President'] = 'Dwight_Eisenhower_R'\n",
    "sp500_df.loc[(sp500_df.index >= dt.datetime(1961, 1, 20)) & (sp500_df.index < dt.datetime(1963, 11, 22)), 'President'] = 'John_Kennedy_D'\n",
    "sp500_df.loc[(sp500_df.index >= dt.datetime(1963, 11, 22)) & (sp500_df.index < dt.datetime(1969, 1, 20)), 'President'] = 'Lyndon_Johnson_D'\n",
    "sp500_df.loc[(sp500_df.index >= dt.datetime(1969, 1, 20)) & (sp500_df.index < dt.datetime(1974, 8, 9)), 'President'] = 'Richard_Nixon_R'\n",
    "sp500_df.loc[(sp500_df.index >= dt.datetime(1974, 8, 9)) & (sp500_df.index < dt.datetime(1977, 1, 20)), 'President'] = 'Gerald_Ford_R'\n",
    "sp500_df.loc[(sp500_df.index >= dt.datetime(1977, 1, 20)) & (sp500_df.index < dt.datetime(1981, 1, 20)), 'President'] = 'Jimmy_Carter_D'\n",
    "sp500_df.loc[(sp500_df.index >= dt.datetime(1981, 1, 20)) & (sp500_df.index < dt.datetime(1989, 1, 20)), 'President'] = 'Ronald_Reagan_R'\n",
    "sp500_df.loc[(sp500_df.index >= dt.datetime(1989, 1, 20)) & (sp500_df.index < dt.datetime(1993, 1, 20)), 'President'] = 'George_Bush_R'\n",
    "sp500_df.loc[(sp500_df.index >= dt.datetime(1993, 1, 20)) & (sp500_df.index < dt.datetime(2001, 1, 20)), 'President'] = 'Bill_Clinton_D'\n",
    "sp500_df.loc[(sp500_df.index >= dt.datetime(2001, 1, 20)) & (sp500_df.index < dt.datetime(2009, 1, 20)), 'President'] = 'George_W._Bush_R'\n",
    "sp500_df.loc[(sp500_df.index >= dt.datetime(2009, 1, 20)) & (sp500_df.index < dt.datetime(2017, 1, 20)), 'President'] = 'Barack_Obama_D'\n",
    "sp500_df.loc[(sp500_df.index >= dt.datetime(2017, 1, 20)) & (sp500_df.index < dt.datetime(2021, 1, 20)), 'President'] = 'Donald_Trump_R'\n",
    "sp500_df.loc[(sp500_df.index >= dt.datetime(2021, 1, 20)) & (sp500_df.index < dt.datetime(2024, 1, 20)), 'President'] = 'Joe_Biden_D'\n",
    "\n",
    "sp500_df['Political_Party'] = sp500_df['President'].str[-1]\n",
    "\n",
    "sp500_df"
   ]
  },
  {
   "cell_type": "code",
   "execution_count": 113,
   "id": "88202cc2-19c5-4763-ac40-dabdc68059d7",
   "metadata": {},
   "outputs": [
    {
     "data": {
      "text/html": [
       "<div>\n",
       "<style scoped>\n",
       "    .dataframe tbody tr th:only-of-type {\n",
       "        vertical-align: middle;\n",
       "    }\n",
       "\n",
       "    .dataframe tbody tr th {\n",
       "        vertical-align: top;\n",
       "    }\n",
       "\n",
       "    .dataframe thead th {\n",
       "        text-align: right;\n",
       "    }\n",
       "</style>\n",
       "<table border=\"1\" class=\"dataframe\">\n",
       "  <thead>\n",
       "    <tr style=\"text-align: right;\">\n",
       "      <th></th>\n",
       "      <th>President</th>\n",
       "      <th>CAGR</th>\n",
       "    </tr>\n",
       "  </thead>\n",
       "  <tbody>\n",
       "    <tr>\n",
       "      <th>5</th>\n",
       "      <td>George_W._Bush_R</td>\n",
       "      <td>-0.024213</td>\n",
       "    </tr>\n",
       "    <tr>\n",
       "      <th>11</th>\n",
       "      <td>Richard_Nixon_R</td>\n",
       "      <td>-0.004418</td>\n",
       "    </tr>\n",
       "    <tr>\n",
       "      <th>9</th>\n",
       "      <td>John_Kennedy_D</td>\n",
       "      <td>0.056593</td>\n",
       "    </tr>\n",
       "    <tr>\n",
       "      <th>7</th>\n",
       "      <td>Jimmy_Carter_D</td>\n",
       "      <td>0.069106</td>\n",
       "    </tr>\n",
       "    <tr>\n",
       "      <th>6</th>\n",
       "      <td>Gerald_Ford_R</td>\n",
       "      <td>0.069931</td>\n",
       "    </tr>\n",
       "    <tr>\n",
       "      <th>3</th>\n",
       "      <td>Dwight_Eisenhower_R</td>\n",
       "      <td>0.073127</td>\n",
       "    </tr>\n",
       "    <tr>\n",
       "      <th>10</th>\n",
       "      <td>Lyndon_Johnson_D</td>\n",
       "      <td>0.092640</td>\n",
       "    </tr>\n",
       "    <tr>\n",
       "      <th>12</th>\n",
       "      <td>Ronald_Reagan_R</td>\n",
       "      <td>0.098856</td>\n",
       "    </tr>\n",
       "    <tr>\n",
       "      <th>8</th>\n",
       "      <td>Joe_Biden_D</td>\n",
       "      <td>0.105601</td>\n",
       "    </tr>\n",
       "    <tr>\n",
       "      <th>0</th>\n",
       "      <td>Barack_Obama_D</td>\n",
       "      <td>0.124300</td>\n",
       "    </tr>\n",
       "    <tr>\n",
       "      <th>4</th>\n",
       "      <td>George_Bush_R</td>\n",
       "      <td>0.128656</td>\n",
       "    </tr>\n",
       "    <tr>\n",
       "      <th>2</th>\n",
       "      <td>Donald_Trump_R</td>\n",
       "      <td>0.145799</td>\n",
       "    </tr>\n",
       "    <tr>\n",
       "      <th>1</th>\n",
       "      <td>Bill_Clinton_D</td>\n",
       "      <td>0.158692</td>\n",
       "    </tr>\n",
       "  </tbody>\n",
       "</table>\n",
       "</div>"
      ],
      "text/plain": [
       "              President      CAGR\n",
       "5      George_W._Bush_R -0.024213\n",
       "11      Richard_Nixon_R -0.004418\n",
       "9        John_Kennedy_D  0.056593\n",
       "7        Jimmy_Carter_D  0.069106\n",
       "6         Gerald_Ford_R  0.069931\n",
       "3   Dwight_Eisenhower_R  0.073127\n",
       "10     Lyndon_Johnson_D  0.092640\n",
       "12      Ronald_Reagan_R  0.098856\n",
       "8           Joe_Biden_D  0.105601\n",
       "0        Barack_Obama_D  0.124300\n",
       "4         George_Bush_R  0.128656\n",
       "2        Donald_Trump_R  0.145799\n",
       "1        Bill_Clinton_D  0.158692"
      ]
     },
     "execution_count": 113,
     "metadata": {},
     "output_type": "execute_result"
    }
   ],
   "source": [
    "df1 = sp500_df.groupby(['President'])['CAGR'].mean().reset_index()\n",
    "df1 = df1.sort_values(by = 'CAGR')\n",
    "df1"
   ]
  },
  {
   "cell_type": "code",
   "execution_count": 98,
   "id": "7da4d75f-3912-492f-9a2a-906154032fb2",
   "metadata": {},
   "outputs": [
    {
     "name": "stdout",
     "output_type": "stream",
     "text": [
      "President\n",
      "George_W._Bush_R   -0.024213\n",
      "Richard_Nixon_R    -0.004418\n",
      "John_Kennedy_D      0.056593\n",
      "Jimmy_Carter_D      0.069106\n",
      "Gerald_Ford_R       0.069931\n",
      "Name: CAGR, dtype: float32\n"
     ]
    }
   ],
   "source": [
    "print(df1.head())"
   ]
  },
  {
   "cell_type": "code",
   "execution_count": 114,
   "id": "61e72a89-6d37-431f-9567-3b8cd0767513",
   "metadata": {},
   "outputs": [
    {
     "data": {
      "text/plain": [
       "<Figure size 1200x600 with 0 Axes>"
      ]
     },
     "metadata": {},
     "output_type": "display_data"
    },
    {
     "data": {
      "image/png": "[encoded data removed]",
      "text/plain": [
       "<Figure size 640x480 with 1 Axes>"
      ]
     },
     "metadata": {},
     "output_type": "display_data"
    }
   ],
   "source": [
    "\n",
    "plt.figure(figsize = (12, 6))\n",
    "ax = df1.plot(kind = 'bar', x = 'President', y = 'CAGR', legend = False)\n",
    "\n",
    "ax.set_xticklabels(df1['President'], rotation = 90)\n",
    "\n",
    "ax.yaxis.set_major_formatter(mtick.FuncFormatter(lambda y, _: '{:.0%}'.format(y)))\n",
    "\n",
    "ax.set_xlabel('President', fontsize=12)\n",
    "ax.set_ylabel('CAGR', fontsize=12)\n",
    "ax.set_title('Average CAGR of S&P 500 by U.S. President', fontsize=14)\n",
    "\n",
    "ax.tick_params(axis='x', labelsize=10)\n",
    "ax.set_xticks(range(len(df1['President'])))\n",
    "\n",
    "plt.tight_layout()"
   ]
  },
  {
   "cell_type": "code",
   "execution_count": 115,
   "id": "f4679b0e-5d4a-4b82-ab8a-05e409199396",
   "metadata": {},
   "outputs": [
    {
     "data": {
      "text/html": [
       "<div>\n",
       "<style scoped>\n",
       "    .dataframe tbody tr th:only-of-type {\n",
       "        vertical-align: middle;\n",
       "    }\n",
       "\n",
       "    .dataframe tbody tr th {\n",
       "        vertical-align: top;\n",
       "    }\n",
       "\n",
       "    .dataframe thead th {\n",
       "        text-align: right;\n",
       "    }\n",
       "</style>\n",
       "<table border=\"1\" class=\"dataframe\">\n",
       "  <thead>\n",
       "    <tr style=\"text-align: right;\">\n",
       "      <th></th>\n",
       "      <th>President</th>\n",
       "      <th>CAGR</th>\n",
       "    </tr>\n",
       "  </thead>\n",
       "  <tbody>\n",
       "    <tr>\n",
       "      <th>0</th>\n",
       "      <td>Barack_Obama_D</td>\n",
       "      <td>0.120867</td>\n",
       "    </tr>\n",
       "    <tr>\n",
       "      <th>1</th>\n",
       "      <td>Bill_Clinton_D</td>\n",
       "      <td>0.198949</td>\n",
       "    </tr>\n",
       "    <tr>\n",
       "      <th>2</th>\n",
       "      <td>Donald_Trump_R</td>\n",
       "      <td>0.178394</td>\n",
       "    </tr>\n",
       "    <tr>\n",
       "      <th>3</th>\n",
       "      <td>Dwight_Eisenhower_R</td>\n",
       "      <td>0.027523</td>\n",
       "    </tr>\n",
       "    <tr>\n",
       "      <th>4</th>\n",
       "      <td>George_Bush_R</td>\n",
       "      <td>0.153855</td>\n",
       "    </tr>\n",
       "    <tr>\n",
       "      <th>5</th>\n",
       "      <td>George_W._Bush_R</td>\n",
       "      <td>0.032653</td>\n",
       "    </tr>\n",
       "    <tr>\n",
       "      <th>6</th>\n",
       "      <td>Gerald_Ford_R</td>\n",
       "      <td>0.191485</td>\n",
       "    </tr>\n",
       "    <tr>\n",
       "      <th>7</th>\n",
       "      <td>Jimmy_Carter_D</td>\n",
       "      <td>0.066854</td>\n",
       "    </tr>\n",
       "    <tr>\n",
       "      <th>8</th>\n",
       "      <td>Joe_Biden_D</td>\n",
       "      <td>0.242305</td>\n",
       "    </tr>\n",
       "    <tr>\n",
       "      <th>9</th>\n",
       "      <td>John_Kennedy_D</td>\n",
       "      <td>0.056593</td>\n",
       "    </tr>\n",
       "    <tr>\n",
       "      <th>10</th>\n",
       "      <td>Lyndon_Johnson_D</td>\n",
       "      <td>0.110159</td>\n",
       "    </tr>\n",
       "    <tr>\n",
       "      <th>11</th>\n",
       "      <td>Richard_Nixon_R</td>\n",
       "      <td>0.000978</td>\n",
       "    </tr>\n",
       "    <tr>\n",
       "      <th>12</th>\n",
       "      <td>Ronald_Reagan_R</td>\n",
       "      <td>0.135106</td>\n",
       "    </tr>\n",
       "  </tbody>\n",
       "</table>\n",
       "</div>"
      ],
      "text/plain": [
       "              President      CAGR\n",
       "0        Barack_Obama_D  0.120867\n",
       "1        Bill_Clinton_D  0.198949\n",
       "2        Donald_Trump_R  0.178394\n",
       "3   Dwight_Eisenhower_R  0.027523\n",
       "4         George_Bush_R  0.153855\n",
       "5      George_W._Bush_R  0.032653\n",
       "6         Gerald_Ford_R  0.191485\n",
       "7        Jimmy_Carter_D  0.066854\n",
       "8           Joe_Biden_D  0.242305\n",
       "9        John_Kennedy_D  0.056593\n",
       "10     Lyndon_Johnson_D  0.110159\n",
       "11      Richard_Nixon_R  0.000978\n",
       "12      Ronald_Reagan_R  0.135106"
      ]
     },
     "execution_count": 115,
     "metadata": {},
     "output_type": "execute_result"
    }
   ],
   "source": [
    "sp500_df.groupby(['President'])['CAGR'].median().reset_index()"
   ]
  },
  {
   "cell_type": "code",
   "execution_count": 116,
   "id": "a432a5b6-387e-480a-af10-8d0dc8a31bc4",
   "metadata": {},
   "outputs": [
    {
     "data": {
      "text/html": [
       "<div>\n",
       "<style scoped>\n",
       "    .dataframe tbody tr th:only-of-type {\n",
       "        vertical-align: middle;\n",
       "    }\n",
       "\n",
       "    .dataframe tbody tr th {\n",
       "        vertical-align: top;\n",
       "    }\n",
       "\n",
       "    .dataframe thead th {\n",
       "        text-align: right;\n",
       "    }\n",
       "</style>\n",
       "<table border=\"1\" class=\"dataframe\">\n",
       "  <thead>\n",
       "    <tr style=\"text-align: right;\">\n",
       "      <th></th>\n",
       "      <th>Political_Party</th>\n",
       "      <th>CAGR</th>\n",
       "    </tr>\n",
       "  </thead>\n",
       "  <tbody>\n",
       "    <tr>\n",
       "      <th>0</th>\n",
       "      <td>D</td>\n",
       "      <td>0.127827</td>\n",
       "    </tr>\n",
       "    <tr>\n",
       "      <th>1</th>\n",
       "      <td>R</td>\n",
       "      <td>0.087351</td>\n",
       "    </tr>\n",
       "  </tbody>\n",
       "</table>\n",
       "</div>"
      ],
      "text/plain": [
       "  Political_Party      CAGR\n",
       "0               D  0.127827\n",
       "1               R  0.087351"
      ]
     },
     "execution_count": 116,
     "metadata": {},
     "output_type": "execute_result"
    }
   ],
   "source": [
    "sp500_df.groupby(['Political_Party'])['CAGR'].median().reset_index()"
   ]
  },
  {
   "cell_type": "code",
   "execution_count": 117,
   "id": "75ff02c1-12da-48c9-a5d8-4e35cfd3e749",
   "metadata": {},
   "outputs": [
    {
     "data": {
      "text/html": [
       "<div>\n",
       "<style scoped>\n",
       "    .dataframe tbody tr th:only-of-type {\n",
       "        vertical-align: middle;\n",
       "    }\n",
       "\n",
       "    .dataframe tbody tr th {\n",
       "        vertical-align: top;\n",
       "    }\n",
       "\n",
       "    .dataframe thead th {\n",
       "        text-align: right;\n",
       "    }\n",
       "</style>\n",
       "<table border=\"1\" class=\"dataframe\">\n",
       "  <thead>\n",
       "    <tr style=\"text-align: right;\">\n",
       "      <th></th>\n",
       "      <th>Political_Party</th>\n",
       "      <th>CAGR</th>\n",
       "    </tr>\n",
       "  </thead>\n",
       "  <tbody>\n",
       "    <tr>\n",
       "      <th>0</th>\n",
       "      <td>D</td>\n",
       "      <td>0.113748</td>\n",
       "    </tr>\n",
       "    <tr>\n",
       "      <th>1</th>\n",
       "      <td>R</td>\n",
       "      <td>0.060421</td>\n",
       "    </tr>\n",
       "  </tbody>\n",
       "</table>\n",
       "</div>"
      ],
      "text/plain": [
       "  Political_Party      CAGR\n",
       "0               D  0.113748\n",
       "1               R  0.060421"
      ]
     },
     "execution_count": 117,
     "metadata": {},
     "output_type": "execute_result"
    }
   ],
   "source": [
    "sp500_df.groupby(['Political_Party'])['CAGR'].mean().reset_index()"
   ]
  },
  {
   "cell_type": "code",
   "execution_count": null,
   "id": "3a9abd68-6067-4814-ac7c-909eae13b2ff",
   "metadata": {},
   "outputs": [],
   "source": [
    "Dwight_Eisenhower = 1957-1961\n",
    "John_Kennedy = 1961-1963\n",
    "Lyndon_Johnson = 1963-1969\n",
    "Richard_Nixon = 1969-1974\n",
    "Gerald_Ford = 1974-1977\n",
    "Jimmy_Carter = 1977-1981\n",
    "Ronald_Reagan = 1981-1989\n",
    "George_Bush = 1989-1993\n",
    "Bill_Clinton = 1993-2001\n",
    "George_W_Bush = 2001-2009\n",
    "Barack_Obama = 2009-2017\n",
    "Donald_Trump = 2017-2021\n",
    "Joe_Biden = 2021-Present"
   ]
  },
  {
   "cell_type": "code",
   "execution_count": 148,
   "id": "d89bb58d-a48b-40b5-8c20-0b899ae8299a",
   "metadata": {},
   "outputs": [
    {
     "data": {
      "text/plain": [
       "<Axes: >"
      ]
     },
     "execution_count": 148,
     "metadata": {},
     "output_type": "execute_result"
    },
    {
     "data": {
      "image/png": "[encoded data removed]",
      "text/plain": [
       "<Figure size 640x480 with 1 Axes>"
      ]
     },
     "metadata": {},
     "output_type": "display_data"
    }
   ],
   "source": [
    "fred_key = \"258743ce08c237c03fc140e3b15e1b41\"\n",
    "fred = Fred(api_key = fred_key)\n",
    "unemployment_rate = fred.get_series('UNRATE')\n",
    "\n",
    "unrate_df = pd.DataFrame({'UNRATE': unemployment_rate})\n",
    "unrate_df['UNRATE'] = unrate_df['UNRATE']/100\n",
    "unrate_df = unrate_df.loc[(unrate_df.index > dt.datetime(2007, 1, 1)) & (unrate_df.index <= dt.datetime(2024, 5, 31)), ['UNRATE']]\n",
    "unrate_df.plot()"
   ]
  },
  {
   "cell_type": "code",
   "execution_count": 163,
   "id": "e8cc4f02-fc43-4b61-afa3-4f7ead9347ad",
   "metadata": {},
   "outputs": [],
   "source": [
    "def format_data_from_fred(data_series, column_name):\n",
    "    df = pd.DataFrame({column_name: data_series})\n",
    "    df[column_name] = df[column_name]/100\n",
    "    df = df.loc[(df.index > dt.datetime(2007, 1, 1)) & (df.index <= dt.datetime(2024, 5, 31)), [column_name]]\n",
    "\n",
    "    return df\n",
    "    "
   ]
  },
  {
   "cell_type": "code",
   "execution_count": 164,
   "id": "75fba1c3-1da7-47c8-a7e8-6578c757a88e",
   "metadata": {},
   "outputs": [
    {
     "data": {
      "text/html": [
       "<div>\n",
       "<style scoped>\n",
       "    .dataframe tbody tr th:only-of-type {\n",
       "        vertical-align: middle;\n",
       "    }\n",
       "\n",
       "    .dataframe tbody tr th {\n",
       "        vertical-align: top;\n",
       "    }\n",
       "\n",
       "    .dataframe thead th {\n",
       "        text-align: right;\n",
       "    }\n",
       "</style>\n",
       "<table border=\"1\" class=\"dataframe\">\n",
       "  <thead>\n",
       "    <tr style=\"text-align: right;\">\n",
       "      <th></th>\n",
       "      <th>UNRATE</th>\n",
       "    </tr>\n",
       "  </thead>\n",
       "  <tbody>\n",
       "    <tr>\n",
       "      <th>2007-02-01</th>\n",
       "      <td>0.045</td>\n",
       "    </tr>\n",
       "    <tr>\n",
       "      <th>2007-03-01</th>\n",
       "      <td>0.044</td>\n",
       "    </tr>\n",
       "    <tr>\n",
       "      <th>2007-04-01</th>\n",
       "      <td>0.045</td>\n",
       "    </tr>\n",
       "    <tr>\n",
       "      <th>2007-05-01</th>\n",
       "      <td>0.044</td>\n",
       "    </tr>\n",
       "    <tr>\n",
       "      <th>2007-06-01</th>\n",
       "      <td>0.046</td>\n",
       "    </tr>\n",
       "    <tr>\n",
       "      <th>...</th>\n",
       "      <td>...</td>\n",
       "    </tr>\n",
       "    <tr>\n",
       "      <th>2024-01-01</th>\n",
       "      <td>0.037</td>\n",
       "    </tr>\n",
       "    <tr>\n",
       "      <th>2024-02-01</th>\n",
       "      <td>0.039</td>\n",
       "    </tr>\n",
       "    <tr>\n",
       "      <th>2024-03-01</th>\n",
       "      <td>0.038</td>\n",
       "    </tr>\n",
       "    <tr>\n",
       "      <th>2024-04-01</th>\n",
       "      <td>0.039</td>\n",
       "    </tr>\n",
       "    <tr>\n",
       "      <th>2024-05-01</th>\n",
       "      <td>0.040</td>\n",
       "    </tr>\n",
       "  </tbody>\n",
       "</table>\n",
       "<p>208 rows × 1 columns</p>\n",
       "</div>"
      ],
      "text/plain": [
       "            UNRATE\n",
       "2007-02-01   0.045\n",
       "2007-03-01   0.044\n",
       "2007-04-01   0.045\n",
       "2007-05-01   0.044\n",
       "2007-06-01   0.046\n",
       "...            ...\n",
       "2024-01-01   0.037\n",
       "2024-02-01   0.039\n",
       "2024-03-01   0.038\n",
       "2024-04-01   0.039\n",
       "2024-05-01   0.040\n",
       "\n",
       "[208 rows x 1 columns]"
      ]
     },
     "execution_count": 164,
     "metadata": {},
     "output_type": "execute_result"
    }
   ],
   "source": [
    "unrate_df02 = format_data_from_fred(unemployment_rate, 'UNRATE')\n",
    "unrate_df02"
   ]
  },
  {
   "cell_type": "code",
   "execution_count": 153,
   "id": "365db640-8ec0-47d3-ac15-a5da1cc773f5",
   "metadata": {},
   "outputs": [
    {
     "name": "stdout",
     "output_type": "stream",
     "text": [
      "0.035 0.046\n"
     ]
    }
   ],
   "source": [
    "\n",
    "min = unrate_df.loc[(unrate_df.index > dt.datetime(2017, 1, 1)) & (unrate_df.index <= dt.datetime(2021, 5, 31)), 'UNRATE'].min()\n",
    "max = unrate_df.loc[(unrate_df.index > dt.datetime(2017, 1, 1)) & (unrate_df.index <= dt.datetime(2020, 1, 31)), 'UNRATE'].max()\n",
    "\n",
    "print(min, max)"
   ]
  },
  {
   "cell_type": "code",
   "execution_count": 150,
   "id": "75baeb27-6621-45b1-b766-18a877eeef72",
   "metadata": {},
   "outputs": [
    {
     "data": {
      "text/html": [
       "<div>\n",
       "<style scoped>\n",
       "    .dataframe tbody tr th:only-of-type {\n",
       "        vertical-align: middle;\n",
       "    }\n",
       "\n",
       "    .dataframe tbody tr th {\n",
       "        vertical-align: top;\n",
       "    }\n",
       "\n",
       "    .dataframe thead th {\n",
       "        text-align: right;\n",
       "    }\n",
       "</style>\n",
       "<table border=\"1\" class=\"dataframe\">\n",
       "  <thead>\n",
       "    <tr style=\"text-align: right;\">\n",
       "      <th></th>\n",
       "      <th>UNRATE</th>\n",
       "    </tr>\n",
       "  </thead>\n",
       "  <tbody>\n",
       "    <tr>\n",
       "      <th>2024-01-01</th>\n",
       "      <td>0.037</td>\n",
       "    </tr>\n",
       "    <tr>\n",
       "      <th>2024-02-01</th>\n",
       "      <td>0.039</td>\n",
       "    </tr>\n",
       "    <tr>\n",
       "      <th>2024-03-01</th>\n",
       "      <td>0.038</td>\n",
       "    </tr>\n",
       "    <tr>\n",
       "      <th>2024-04-01</th>\n",
       "      <td>0.039</td>\n",
       "    </tr>\n",
       "    <tr>\n",
       "      <th>2024-05-01</th>\n",
       "      <td>0.040</td>\n",
       "    </tr>\n",
       "  </tbody>\n",
       "</table>\n",
       "</div>"
      ],
      "text/plain": [
       "            UNRATE\n",
       "2024-01-01   0.037\n",
       "2024-02-01   0.039\n",
       "2024-03-01   0.038\n",
       "2024-04-01   0.039\n",
       "2024-05-01   0.040"
      ]
     },
     "execution_count": 150,
     "metadata": {},
     "output_type": "execute_result"
    }
   ],
   "source": [
    "unrate_df.tail()"
   ]
  },
  {
   "cell_type": "code",
   "execution_count": 158,
   "id": "19323237-7f01-4ecf-9737-f376ab3b6953",
   "metadata": {},
   "outputs": [],
   "source": [
    "real_gdp_gr = fred.get_series('A191RL1Q225SBEA')"
   ]
  },
  {
   "cell_type": "code",
   "execution_count": 159,
   "id": "b1824f30-e9fd-46b4-a03b-880d4a525727",
   "metadata": {},
   "outputs": [
    {
     "data": {
      "text/plain": [
       "1947-04-01   -1.0\n",
       "1947-07-01   -0.8\n",
       "1947-10-01    6.4\n",
       "1948-01-01    6.2\n",
       "1948-04-01    6.8\n",
       "             ... \n",
       "2023-01-01    2.2\n",
       "2023-04-01    2.1\n",
       "2023-07-01    4.9\n",
       "2023-10-01    3.4\n",
       "2024-01-01    1.3\n",
       "Length: 308, dtype: float64"
      ]
     },
     "execution_count": 159,
     "metadata": {},
     "output_type": "execute_result"
    }
   ],
   "source": [
    "real_gdp_gr"
   ]
  },
  {
   "cell_type": "code",
   "execution_count": 165,
   "id": "4022de5b-088c-49a9-9898-c815e5192c2c",
   "metadata": {},
   "outputs": [
    {
     "data": {
      "text/html": [
       "<div>\n",
       "<style scoped>\n",
       "    .dataframe tbody tr th:only-of-type {\n",
       "        vertical-align: middle;\n",
       "    }\n",
       "\n",
       "    .dataframe tbody tr th {\n",
       "        vertical-align: top;\n",
       "    }\n",
       "\n",
       "    .dataframe thead th {\n",
       "        text-align: right;\n",
       "    }\n",
       "</style>\n",
       "<table border=\"1\" class=\"dataframe\">\n",
       "  <thead>\n",
       "    <tr style=\"text-align: right;\">\n",
       "      <th></th>\n",
       "      <th>Real_GDP_Growth_Rate</th>\n",
       "    </tr>\n",
       "  </thead>\n",
       "  <tbody>\n",
       "    <tr>\n",
       "      <th>2007-04-01</th>\n",
       "      <td>0.025</td>\n",
       "    </tr>\n",
       "    <tr>\n",
       "      <th>2007-07-01</th>\n",
       "      <td>0.023</td>\n",
       "    </tr>\n",
       "    <tr>\n",
       "      <th>2007-10-01</th>\n",
       "      <td>0.025</td>\n",
       "    </tr>\n",
       "    <tr>\n",
       "      <th>2008-01-01</th>\n",
       "      <td>-0.017</td>\n",
       "    </tr>\n",
       "    <tr>\n",
       "      <th>2008-04-01</th>\n",
       "      <td>0.024</td>\n",
       "    </tr>\n",
       "    <tr>\n",
       "      <th>...</th>\n",
       "      <td>...</td>\n",
       "    </tr>\n",
       "    <tr>\n",
       "      <th>2023-01-01</th>\n",
       "      <td>0.022</td>\n",
       "    </tr>\n",
       "    <tr>\n",
       "      <th>2023-04-01</th>\n",
       "      <td>0.021</td>\n",
       "    </tr>\n",
       "    <tr>\n",
       "      <th>2023-07-01</th>\n",
       "      <td>0.049</td>\n",
       "    </tr>\n",
       "    <tr>\n",
       "      <th>2023-10-01</th>\n",
       "      <td>0.034</td>\n",
       "    </tr>\n",
       "    <tr>\n",
       "      <th>2024-01-01</th>\n",
       "      <td>0.013</td>\n",
       "    </tr>\n",
       "  </tbody>\n",
       "</table>\n",
       "<p>68 rows × 1 columns</p>\n",
       "</div>"
      ],
      "text/plain": [
       "            Real_GDP_Growth_Rate\n",
       "2007-04-01                 0.025\n",
       "2007-07-01                 0.023\n",
       "2007-10-01                 0.025\n",
       "2008-01-01                -0.017\n",
       "2008-04-01                 0.024\n",
       "...                          ...\n",
       "2023-01-01                 0.022\n",
       "2023-04-01                 0.021\n",
       "2023-07-01                 0.049\n",
       "2023-10-01                 0.034\n",
       "2024-01-01                 0.013\n",
       "\n",
       "[68 rows x 1 columns]"
      ]
     },
     "execution_count": 165,
     "metadata": {},
     "output_type": "execute_result"
    }
   ],
   "source": [
    "real_gdp_df02 = format_data_from_fred(real_gdp_gr, 'Real_GDP_Growth_Rate')\n",
    "real_gdp_df02"
   ]
  },
  {
   "cell_type": "code",
   "execution_count": 156,
   "id": "f977ba45-deb4-4a42-b139-d3b246868d87",
   "metadata": {},
   "outputs": [
    {
     "data": {
      "text/plain": [
       "<Axes: >"
      ]
     },
     "execution_count": 156,
     "metadata": {},
     "output_type": "execute_result"
    },
    {
     "data": {
      "image/png": "[encoded data removed]",
      "text/plain": [
       "<Figure size 640x480 with 1 Axes>"
      ]
     },
     "metadata": {},
     "output_type": "display_data"
    }
   ],
   "source": [
    "real_gdp_gr = pd.DataFrame({'Real_GDP_Growth_Rate': real_gdp_gr})\n",
    "unrate_df['UNRATE'] = real_gdp_gr['Real_GDP_Growth_Rate']/100\n",
    "unrate_df = unrate_df.loc[(unrate_df.index > dt.datetime(2007, 1, 1)) & (unrate_df.index <= dt.datetime(2024, 5, 31)), ['UNRATE']]\n",
    "unrate_df.plot()"
   ]
  },
  {
   "cell_type": "code",
   "execution_count": null,
   "id": "499d7a51-59bd-419a-bdaf-5b99cd3463e9",
   "metadata": {},
   "outputs": [],
   "source": []
  }
 ],
 "metadata": {
  "kernelspec": {
   "display_name": "Python 3 (ipykernel)",
   "language": "python",
   "name": "python3"
  },
  "language_info": {
   "codemirror_mode": {
    "name": "ipython",
    "version": 3
   },
   "file_extension": ".py",
   "mimetype": "text/x-python",
   "name": "python",
   "nbconvert_exporter": "python",
   "pygments_lexer": "ipython3",
   "version": "3.12.0"
  }
 },
 "nbformat": 4,
 "nbformat_minor": 5
}
