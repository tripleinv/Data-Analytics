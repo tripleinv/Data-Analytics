{
 "cells": [
  {
   "cell_type": "code",
   "execution_count": 1,
   "id": "a210df66-dfbe-4fec-83ba-a2856218345e",
   "metadata": {},
   "outputs": [],
   "source": [
    "import os \n",
    "import numpy as np"
   ]
  },
  {
   "cell_type": "markdown",
   "id": "547f261e-23da-4ce2-9572-961e5ae52363",
   "metadata": {},
   "source": [
    "# Basic Numpay Arrays"
   ]
  },
  {
   "cell_type": "code",
   "execution_count": 4,
   "id": "f91b8b62-5615-4796-a348-908a589c87fd",
   "metadata": {},
   "outputs": [],
   "source": [
    "n = np.array([1, 2, 3, 4])"
   ]
  },
  {
   "cell_type": "code",
   "execution_count": 3,
   "id": "1d8b67f9-9be4-41c2-a76e-e6d9563ea467",
   "metadata": {},
   "outputs": [],
   "source": [
    "l = [1, 2, 3, 4]"
   ]
  },
  {
   "cell_type": "code",
   "execution_count": 6,
   "id": "17e75a37-1e06-453c-9adf-252ad6efd73b",
   "metadata": {},
   "outputs": [
    {
     "name": "stdout",
     "output_type": "stream",
     "text": [
      "int32\n"
     ]
    },
    {
     "ename": "AttributeError",
     "evalue": "'int' object has no attribute 'dtype'",
     "output_type": "error",
     "traceback": [
      "\u001b[1;31m---------------------------------------------------------------------------\u001b[0m",
      "\u001b[1;31mAttributeError\u001b[0m                            Traceback (most recent call last)",
      "Cell \u001b[1;32mIn[6], line 2\u001b[0m\n\u001b[0;32m      1\u001b[0m \u001b[38;5;28mprint\u001b[39m(n\u001b[38;5;241m.\u001b[39mdtype)\n\u001b[1;32m----> 2\u001b[0m \u001b[38;5;28mprint\u001b[39m(\u001b[43ml\u001b[49m\u001b[43m[\u001b[49m\u001b[38;5;241;43m1\u001b[39;49m\u001b[43m]\u001b[49m\u001b[38;5;241;43m.\u001b[39;49m\u001b[43mdtype\u001b[49m)\n",
      "\u001b[1;31mAttributeError\u001b[0m: 'int' object has no attribute 'dtype'"
     ]
    }
   ],
   "source": [
    "print(n.dtype)\n",
    "print(l[1].dtype)"
   ]
  },
  {
   "cell_type": "code",
   "execution_count": 7,
   "id": "53f99159-2511-418b-a412-1c759f771211",
   "metadata": {},
   "outputs": [
    {
     "data": {
      "text/plain": [
       "2"
      ]
     },
     "execution_count": 7,
     "metadata": {},
     "output_type": "execute_result"
    }
   ],
   "source": [
    "n[1]"
   ]
  },
  {
   "cell_type": "code",
   "execution_count": 8,
   "id": "fc523291-83b8-4023-a2f8-88caf18bf8ed",
   "metadata": {},
   "outputs": [
    {
     "data": {
      "text/plain": [
       "array([1, 2])"
      ]
     },
     "execution_count": 8,
     "metadata": {},
     "output_type": "execute_result"
    }
   ],
   "source": [
    "n[:2]"
   ]
  },
  {
   "cell_type": "code",
   "execution_count": 10,
   "id": "9523b0d8-98da-4a10-9ca0-c4fa7265990a",
   "metadata": {},
   "outputs": [
    {
     "data": {
      "text/plain": [
       "array([2, 3, 4])"
      ]
     },
     "execution_count": 10,
     "metadata": {},
     "output_type": "execute_result"
    }
   ],
   "source": [
    "n[[1, 2, 3]]       # note how it's an array passed here [1, 2, 3] not (1, 2, 3), which is a tuple"
   ]
  },
  {
   "cell_type": "markdown",
   "id": "0f6cbf52-2ece-47ca-855d-2ffad9e850b5",
   "metadata": {},
   "source": [
    "# Dimensions and shapes"
   ]
  },
  {
   "cell_type": "code",
   "execution_count": 12,
   "id": "edf26ac2-d3aa-46f5-81e1-aebcec0aa03d",
   "metadata": {},
   "outputs": [],
   "source": [
    "A = np.array(\n",
    "    [\n",
    "        [1, 2, 3],\n",
    "        [4, 5, 6]\n",
    "    ]\n",
    ")"
   ]
  },
  {
   "cell_type": "code",
   "execution_count": 13,
   "id": "7ea6b3dd-bfed-4e47-8ba4-6144f50c3d4b",
   "metadata": {},
   "outputs": [
    {
     "data": {
      "text/plain": [
       "(2, 3)"
      ]
     },
     "execution_count": 13,
     "metadata": {},
     "output_type": "execute_result"
    }
   ],
   "source": [
    "A.shape"
   ]
  },
  {
   "cell_type": "markdown",
   "id": "446ff3a6-bc87-4438-9e46-d8293825a9eb",
   "metadata": {},
   "source": [
    "# Indexing and slicing matrices"
   ]
  },
  {
   "cell_type": "code",
   "execution_count": 23,
   "id": "bd891117-3fb8-4ee6-aefa-5610fb180435",
   "metadata": {},
   "outputs": [],
   "source": [
    "B = np.array(\n",
    "    [\n",
    "        [1,2,3],\n",
    "        [4,5,6],\n",
    "        [7,8,9]\n",
    "    ]\n",
    ")"
   ]
  },
  {
   "cell_type": "code",
   "execution_count": 16,
   "id": "70c72064-5f67-4284-83e9-aa03fe80cd82",
   "metadata": {},
   "outputs": [
    {
     "data": {
      "text/plain": [
       "array([[1, 2],\n",
       "       [4, 5]])"
      ]
     },
     "execution_count": 16,
     "metadata": {},
     "output_type": "execute_result"
    }
   ],
   "source": [
    "B[0:2, 0:2]"
   ]
  },
  {
   "cell_type": "code",
   "execution_count": 27,
   "id": "bb8f0499-c924-432e-9db4-c3b3cbf7052e",
   "metadata": {},
   "outputs": [
    {
     "data": {
      "text/plain": [
       "array([[ 1,  2,  3],\n",
       "       [11, 12, 13],\n",
       "       [ 7,  8,  9]])"
      ]
     },
     "execution_count": 27,
     "metadata": {},
     "output_type": "execute_result"
    }
   ],
   "source": [
    "B[1] = [11, 12, 13]\n",
    "B"
   ]
  },
  {
   "cell_type": "markdown",
   "id": "6e2d356f-9e79-4c4b-954b-73359a066063",
   "metadata": {},
   "source": [
    "# Summary Statistics"
   ]
  },
  {
   "cell_type": "code",
   "execution_count": 28,
   "id": "cfc17df3-06e8-4e8c-a3a5-91e0e942d161",
   "metadata": {},
   "outputs": [
    {
     "data": {
      "text/plain": [
       "66"
      ]
     },
     "execution_count": 28,
     "metadata": {},
     "output_type": "execute_result"
    }
   ],
   "source": [
    "B.sum()"
   ]
  },
  {
   "cell_type": "code",
   "execution_count": 29,
   "id": "fc3f0003-4ed4-449b-a8d5-baf08fd1f6ed",
   "metadata": {},
   "outputs": [
    {
     "data": {
      "text/plain": [
       "array([19, 22, 25])"
      ]
     },
     "execution_count": 29,
     "metadata": {},
     "output_type": "execute_result"
    }
   ],
   "source": [
    "B.sum(axis = 0)"
   ]
  },
  {
   "cell_type": "code",
   "execution_count": 30,
   "id": "07964850-b239-448d-8be8-2cad33f7c4d6",
   "metadata": {},
   "outputs": [
    {
     "data": {
      "text/plain": [
       "19"
      ]
     },
     "execution_count": 30,
     "metadata": {},
     "output_type": "execute_result"
    }
   ],
   "source": [
    "B[:,0].sum(axis = 0)"
   ]
  },
  {
   "cell_type": "code",
   "execution_count": 33,
   "id": "11adf11b-97c0-4fc1-ae3c-21f8c15a7483",
   "metadata": {},
   "outputs": [],
   "source": [
    "b = B[1, :].sum()"
   ]
  },
  {
   "cell_type": "code",
   "execution_count": 34,
   "id": "d4cf91f3-0516-4521-928a-77201d90809b",
   "metadata": {},
   "outputs": [
    {
     "data": {
      "text/plain": [
       "36"
      ]
     },
     "execution_count": 34,
     "metadata": {},
     "output_type": "execute_result"
    }
   ],
   "source": [
    "b"
   ]
  },
  {
   "cell_type": "code",
   "execution_count": 35,
   "id": "6932931e-5fe1-441e-b70d-4bc1f540bcb5",
   "metadata": {},
   "outputs": [
    {
     "data": {
      "text/plain": [
       "7.333333333333333"
      ]
     },
     "execution_count": 35,
     "metadata": {},
     "output_type": "execute_result"
    }
   ],
   "source": [
    "B.mean()"
   ]
  },
  {
   "cell_type": "code",
   "execution_count": 36,
   "id": "39debbcb-21d2-4945-8211-a1c11af46240",
   "metadata": {},
   "outputs": [
    {
     "data": {
      "text/plain": [
       "array([ 2., 12.,  8.])"
      ]
     },
     "execution_count": 36,
     "metadata": {},
     "output_type": "execute_result"
    }
   ],
   "source": [
    "B.mean(axis = 1)"
   ]
  },
  {
   "cell_type": "markdown",
   "id": "78efd172-cbb7-488f-9d4c-bf5396a2d90f",
   "metadata": {},
   "source": [
    "#Broadcasting and vectorized operations\n"
   ]
  },
  {
   "cell_type": "code",
   "execution_count": 37,
   "id": "2aa49f7c-9dd5-4346-af7e-6db61f753c82",
   "metadata": {},
   "outputs": [],
   "source": [
    "a= np.arange(4) # Numpy vectorization: a method of performing array operations without the use for loops"
   ]
  },
  {
   "cell_type": "code",
   "execution_count": 38,
   "id": "5cae719f-21ea-4984-8b41-240a7f93cbc8",
   "metadata": {},
   "outputs": [
    {
     "data": {
      "text/plain": [
       "array([0, 1, 2, 3])"
      ]
     },
     "execution_count": 38,
     "metadata": {},
     "output_type": "execute_result"
    }
   ],
   "source": [
    "a"
   ]
  },
  {
   "cell_type": "code",
   "execution_count": 51,
   "id": "8b0fa1e1-6d79-4067-8eb8-94f592180fd9",
   "metadata": {},
   "outputs": [
    {
     "data": {
      "text/plain": [
       "array([[ 4, 66, 79],\n",
       "       [27,  5, 27],\n",
       "       [59, 52, 24]])"
      ]
     },
     "execution_count": 51,
     "metadata": {},
     "output_type": "execute_result"
    }
   ],
   "source": [
    "c = np.random.randint(100, size = (3,3))\n",
    "c"
   ]
  },
  {
   "cell_type": "code",
   "execution_count": 40,
   "id": "f93f1c87-9f89-4dfa-bc3e-41cbb6ed435d",
   "metadata": {},
   "outputs": [],
   "source": [
    "b = a + 10 # this is actually a very powerful method, and super fast, if you want to apply one calculation to every element in an array."
   ]
  },
  {
   "cell_type": "code",
   "execution_count": 41,
   "id": "86be72a4-eb46-47f3-9599-11301e8b3c81",
   "metadata": {},
   "outputs": [
    {
     "data": {
      "text/plain": [
       "array([10, 11, 12, 13])"
      ]
     },
     "execution_count": 41,
     "metadata": {},
     "output_type": "execute_result"
    }
   ],
   "source": [
    "b"
   ]
  },
  {
   "cell_type": "code",
   "execution_count": 42,
   "id": "b2042219-92f8-45ca-9637-34dec7032254",
   "metadata": {},
   "outputs": [
    {
     "data": {
      "text/plain": [
       "array([0, 1, 2, 3])"
      ]
     },
     "execution_count": 42,
     "metadata": {},
     "output_type": "execute_result"
    }
   ],
   "source": [
    "a # notice how a didn't change instead, a + 10 created a new array b"
   ]
  },
  {
   "cell_type": "code",
   "execution_count": 43,
   "id": "f2eff850-f1f7-4a38-9c77-a6188d41b19f",
   "metadata": {},
   "outputs": [
    {
     "data": {
      "text/plain": [
       "array([100, 101, 102, 103])"
      ]
     },
     "execution_count": 43,
     "metadata": {},
     "output_type": "execute_result"
    }
   ],
   "source": [
    "a +=100\n",
    "a # notice how in this case, a is modified"
   ]
  },
  {
   "cell_type": "markdown",
   "id": "edfc4583-685e-4af5-96c7-b89a196b06f1",
   "metadata": {},
   "source": [
    "#boolean arrays\n"
   ]
  },
  {
   "cell_type": "code",
   "execution_count": 44,
   "id": "e1fcbf2f-8bb3-4812-a9b6-2ca4a3491513",
   "metadata": {},
   "outputs": [],
   "source": [
    "a = np.arange(4)\n"
   ]
  },
  {
   "cell_type": "code",
   "execution_count": 45,
   "id": "56d0179c-521c-4876-b8b5-beb44365d544",
   "metadata": {},
   "outputs": [
    {
     "data": {
      "text/plain": [
       "array([0, 1, 2, 3])"
      ]
     },
     "execution_count": 45,
     "metadata": {},
     "output_type": "execute_result"
    }
   ],
   "source": [
    "a"
   ]
  },
  {
   "cell_type": "code",
   "execution_count": 47,
   "id": "fa96011f-f6ad-46cf-bfa2-3a6a43cfcb95",
   "metadata": {},
   "outputs": [
    {
     "data": {
      "text/plain": [
       "array([2, 3])"
      ]
     },
     "execution_count": 47,
     "metadata": {},
     "output_type": "execute_result"
    }
   ],
   "source": [
    "a[a>=2]"
   ]
  },
  {
   "cell_type": "code",
   "execution_count": 48,
   "id": "262a422e-1622-430a-a97a-30fd095c2411",
   "metadata": {},
   "outputs": [
    {
     "data": {
      "text/plain": [
       "array([False, False,  True,  True])"
      ]
     },
     "execution_count": 48,
     "metadata": {},
     "output_type": "execute_result"
    }
   ],
   "source": [
    "a >= 2  # notice this returns an array of boolean array"
   ]
  },
  {
   "cell_type": "code",
   "execution_count": 49,
   "id": "2c737856-be06-4961-93d2-0fc57afc3493",
   "metadata": {},
   "outputs": [
    {
     "data": {
      "text/plain": [
       "array([False, False,  True,  True])"
      ]
     },
     "execution_count": 49,
     "metadata": {},
     "output_type": "execute_result"
    }
   ],
   "source": [
    "a >= a.mean() # this is a boolean array. "
   ]
  },
  {
   "cell_type": "code",
   "execution_count": 50,
   "id": "3971a365-4ce7-4b64-9a5a-e11ec51918b8",
   "metadata": {},
   "outputs": [
    {
     "data": {
      "text/plain": [
       "array([2, 3])"
      ]
     },
     "execution_count": 50,
     "metadata": {},
     "output_type": "execute_result"
    }
   ],
   "source": [
    "a[a>=a.mean()]"
   ]
  },
  {
   "cell_type": "code",
   "execution_count": null,
   "id": "2782a3f1-fe7c-43a2-967f-354805dee93d",
   "metadata": {},
   "outputs": [],
   "source": [
    "# boolean arrays can be used to filter, this is important. "
   ]
  },
  {
   "cell_type": "markdown",
   "id": "10ae26e5-46c4-4309-9f17-77b46d756288",
   "metadata": {},
   "source": [
    "#linear algebra\n"
   ]
  },
  {
   "cell_type": "code",
   "execution_count": 52,
   "id": "412a3bea-47d6-4058-91c3-3d9e29aeb322",
   "metadata": {},
   "outputs": [],
   "source": [
    "A = np.array(\n",
    "    [\n",
    "        [1, 2, 3],\n",
    "        [4, 5, 6],\n",
    "        [7, 8, 9]\n",
    "    ]\n",
    ")\n",
    "\n",
    "B = np.array(\n",
    "    [\n",
    "        [6,5],\n",
    "        [4,3],\n",
    "        [2,1]\n",
    "    ]\n",
    ")"
   ]
  },
  {
   "cell_type": "code",
   "execution_count": 53,
   "id": "b8b15b8d-e1da-4d7b-88f6-becb367de266",
   "metadata": {},
   "outputs": [
    {
     "data": {
      "text/plain": [
       "array([[20, 14],\n",
       "       [56, 41],\n",
       "       [92, 68]])"
      ]
     },
     "execution_count": 53,
     "metadata": {},
     "output_type": "execute_result"
    }
   ],
   "source": [
    "A.dot(B)"
   ]
  },
  {
   "cell_type": "code",
   "execution_count": 54,
   "id": "5ba10bac-d8b1-4c36-8538-ce1e4189692e",
   "metadata": {},
   "outputs": [
    {
     "data": {
      "text/plain": [
       "array([[20, 14],\n",
       "       [56, 41],\n",
       "       [92, 68]])"
      ]
     },
     "execution_count": 54,
     "metadata": {},
     "output_type": "execute_result"
    }
   ],
   "source": [
    "A@B"
   ]
  },
  {
   "cell_type": "code",
   "execution_count": 55,
   "id": "08812be2-1016-4836-a2fe-8d123efa9d0c",
   "metadata": {},
   "outputs": [
    {
     "data": {
      "text/plain": [
       "array([[6, 4, 2],\n",
       "       [5, 3, 1]])"
      ]
     },
     "execution_count": 55,
     "metadata": {},
     "output_type": "execute_result"
    }
   ],
   "source": [
    "B.T"
   ]
  },
  {
   "cell_type": "code",
   "execution_count": 56,
   "id": "18cb1743-38d5-4bab-b89a-44608fbe41b9",
   "metadata": {},
   "outputs": [
    {
     "data": {
      "text/plain": [
       "array([[1, 2, 3],\n",
       "       [4, 5, 6],\n",
       "       [7, 8, 9]])"
      ]
     },
     "execution_count": 56,
     "metadata": {},
     "output_type": "execute_result"
    }
   ],
   "source": [
    "A # Note that A didn't change value."
   ]
  },
  {
   "cell_type": "code",
   "execution_count": 57,
   "id": "cd3fdd21-e53c-46b7-aa9c-385660fe45c9",
   "metadata": {},
   "outputs": [
    {
     "data": {
      "text/plain": [
       "array([[36, 48, 60],\n",
       "       [24, 33, 42]])"
      ]
     },
     "execution_count": 57,
     "metadata": {},
     "output_type": "execute_result"
    }
   ],
   "source": [
    "B.T@A"
   ]
  },
  {
   "cell_type": "markdown",
   "id": "4a8b19bb-0eaa-4a7d-a6d6-4d126088fa09",
   "metadata": {},
   "source": [
    "# Sizes of objects in memory\n"
   ]
  },
  {
   "cell_type": "code",
   "execution_count": 59,
   "id": "00aaa19d-94c1-4c05-ae37-dc1ae6951a64",
   "metadata": {},
   "outputs": [],
   "source": [
    "import sys"
   ]
  },
  {
   "cell_type": "code",
   "execution_count": 61,
   "id": "9c173f9f-e515-488f-868b-1fb718590986",
   "metadata": {},
   "outputs": [
    {
     "data": {
      "text/plain": [
       "28"
      ]
     },
     "execution_count": 61,
     "metadata": {},
     "output_type": "execute_result"
    }
   ],
   "source": [
    "# an interger in Python is >24bytaes\n",
    "sys.getsizeof(1)"
   ]
  },
  {
   "cell_type": "code",
   "execution_count": 62,
   "id": "0b7c180b-ac24-437f-880e-6d187874870e",
   "metadata": {},
   "outputs": [
    {
     "data": {
      "text/plain": [
       "72"
      ]
     },
     "execution_count": 62,
     "metadata": {},
     "output_type": "execute_result"
    }
   ],
   "source": [
    "# Long are even larger\n",
    "sys.getsizeof(10**100)"
   ]
  },
  {
   "cell_type": "code",
   "execution_count": 63,
   "id": "49f3ab62-6d36-419e-ad38-a896e4d255e8",
   "metadata": {},
   "outputs": [
    {
     "data": {
      "text/plain": [
       "4"
      ]
     },
     "execution_count": 63,
     "metadata": {},
     "output_type": "execute_result"
    }
   ],
   "source": [
    "# Numpy is much smaller\n",
    "np.dtype(int).itemsize"
   ]
  },
  {
   "cell_type": "code",
   "execution_count": 64,
   "id": "fa40c19c-c2c4-4af4-91f1-993904bd3be9",
   "metadata": {},
   "outputs": [
    {
     "data": {
      "text/plain": [
       "8"
      ]
     },
     "execution_count": 64,
     "metadata": {},
     "output_type": "execute_result"
    }
   ],
   "source": [
    "np.dtype(float).itemsize"
   ]
  },
  {
   "cell_type": "code",
   "execution_count": 66,
   "id": "b26372ca-a778-4960-8629-8a633c9ae15e",
   "metadata": {},
   "outputs": [],
   "source": [
    "# compare the list calculations between python list and numpy array \n",
    "l = list(range(1000))\n",
    "a = np.arange(1000)"
   ]
  },
  {
   "cell_type": "code",
   "execution_count": 68,
   "id": "f5a44bda-4564-4938-802f-986a7c015c20",
   "metadata": {},
   "outputs": [
    {
     "name": "stdout",
     "output_type": "stream",
     "text": [
      "CPU times: total: 0 ns\n",
      "Wall time: 2 ms\n"
     ]
    },
    {
     "data": {
      "text/plain": [
       "332833500"
      ]
     },
     "execution_count": 68,
     "metadata": {},
     "output_type": "execute_result"
    }
   ],
   "source": [
    "%time np.sum(a**2)"
   ]
  },
  {
   "cell_type": "code",
   "execution_count": 67,
   "id": "a22912db-010c-4fb6-9297-52593cea057c",
   "metadata": {},
   "outputs": [
    {
     "name": "stdout",
     "output_type": "stream",
     "text": [
      "CPU times: total: 0 ns\n",
      "Wall time: 0 ns\n"
     ]
    },
    {
     "data": {
      "text/plain": [
       "332833500"
      ]
     },
     "execution_count": 67,
     "metadata": {},
     "output_type": "execute_result"
    }
   ],
   "source": [
    "%time sum(x**2 for x in l)"
   ]
  },
  {
   "cell_type": "markdown",
   "id": "dfcb5c1d-e8ff-4277-93ed-ef484d7f5115",
   "metadata": {},
   "source": [
    "# Useful Numpy functions"
   ]
  },
  {
   "cell_type": "code",
   "execution_count": 69,
   "id": "417a73ff-977b-448a-b463-4737bde719e9",
   "metadata": {},
   "outputs": [
    {
     "data": {
      "text/plain": [
       "array([0.37335714, 0.75022008])"
      ]
     },
     "execution_count": 69,
     "metadata": {},
     "output_type": "execute_result"
    }
   ],
   "source": [
    "# random: generates a random float number between 0 and 1\n",
    "np.random.random(size = 2)"
   ]
  },
  {
   "cell_type": "code",
   "execution_count": 70,
   "id": "5df14d25-1d10-4cb1-a9e4-3ac8f1e01f6b",
   "metadata": {},
   "outputs": [
    {
     "data": {
      "text/plain": [
       "array([ 0.70488794, -0.77346822])"
      ]
     },
     "execution_count": 70,
     "metadata": {},
     "output_type": "execute_result"
    }
   ],
   "source": [
    "np.random.normal(size = 2) # gerneate random numbers from a normal dis with a specific mean and standard deviation"
   ]
  },
  {
   "cell_type": "code",
   "execution_count": 71,
   "id": "332f56cc-cea2-4fa4-af81-911530152ec6",
   "metadata": {},
   "outputs": [
    {
     "data": {
      "text/plain": [
       "array([[0.90405261, 0.13732683, 0.30322169, 0.9127215 ],\n",
       "       [0.35921696, 0.05912874, 0.03655121, 0.0729303 ]])"
      ]
     },
     "execution_count": 71,
     "metadata": {},
     "output_type": "execute_result"
    }
   ],
   "source": [
    "np.random.rand(2,4) # genreate random numbers in a given shape from a uniform distribution [0,1)"
   ]
  },
  {
   "cell_type": "code",
   "execution_count": 72,
   "id": "af6b651e-5132-4374-ae81-946df127c625",
   "metadata": {},
   "outputs": [
    {
     "data": {
      "text/plain": [
       "array([0, 1, 2, 3, 4, 5, 6, 7, 8, 9])"
      ]
     },
     "execution_count": 72,
     "metadata": {},
     "output_type": "execute_result"
    }
   ],
   "source": [
    "# arange\n",
    "np.arange(10)"
   ]
  },
  {
   "cell_type": "code",
   "execution_count": 73,
   "id": "f1dd1c38-f89e-4d27-8998-ef7852efd9ef",
   "metadata": {},
   "outputs": [
    {
     "data": {
      "text/plain": [
       "array([5, 6, 7, 8, 9])"
      ]
     },
     "execution_count": 73,
     "metadata": {},
     "output_type": "execute_result"
    }
   ],
   "source": [
    "np.arange(5,10)"
   ]
  },
  {
   "cell_type": "code",
   "execution_count": 74,
   "id": "d01d838e-bd40-4f9f-b020-74dc1b9ac350",
   "metadata": {},
   "outputs": [
    {
     "data": {
      "text/plain": [
       "array([0. , 0.1, 0.2, 0.3, 0.4, 0.5, 0.6, 0.7, 0.8, 0.9])"
      ]
     },
     "execution_count": 74,
     "metadata": {},
     "output_type": "execute_result"
    }
   ],
   "source": [
    "np.arange(0,1, .1)"
   ]
  },
  {
   "cell_type": "code",
   "execution_count": 75,
   "id": "14882a70-47ce-4204-9545-f116273bd995",
   "metadata": {},
   "outputs": [
    {
     "data": {
      "text/plain": [
       "array([[0, 1, 2, 3, 4],\n",
       "       [5, 6, 7, 8, 9]])"
      ]
     },
     "execution_count": 75,
     "metadata": {},
     "output_type": "execute_result"
    }
   ],
   "source": [
    "# Reshpae\n",
    "np.arange(10).reshape(2,5)"
   ]
  },
  {
   "cell_type": "code",
   "execution_count": 76,
   "id": "7493de71-3a49-4033-b38a-0e21744cd65b",
   "metadata": {},
   "outputs": [
    {
     "data": {
      "text/plain": [
       "array([[0, 1],\n",
       "       [2, 3],\n",
       "       [4, 5],\n",
       "       [6, 7],\n",
       "       [8, 9]])"
      ]
     },
     "execution_count": 76,
     "metadata": {},
     "output_type": "execute_result"
    }
   ],
   "source": [
    "np.arange(10).reshape(5,2)"
   ]
  },
  {
   "cell_type": "code",
   "execution_count": 77,
   "id": "ed9a1fac-a62a-4cdb-8a89-d8e592ff1bcb",
   "metadata": {},
   "outputs": [
    {
     "data": {
      "text/plain": [
       "array([0.  , 0.25, 0.5 , 0.75, 1.  ])"
      ]
     },
     "execution_count": 77,
     "metadata": {},
     "output_type": "execute_result"
    }
   ],
   "source": [
    "#linspace\n",
    "np.linspace(0,1,5)"
   ]
  },
  {
   "cell_type": "code",
   "execution_count": 80,
   "id": "af2d745d-a2c3-496d-b1e4-384b0a4614f5",
   "metadata": {},
   "outputs": [
    {
     "data": {
      "text/plain": [
       "array([[0.        , 0.05263158, 0.10526316, 0.15789474, 0.21052632,\n",
       "        0.26315789, 0.31578947, 0.36842105, 0.42105263, 0.47368421],\n",
       "       [0.52631579, 0.57894737, 0.63157895, 0.68421053, 0.73684211,\n",
       "        0.78947368, 0.84210526, 0.89473684, 0.94736842, 1.        ]])"
      ]
     },
     "execution_count": 80,
     "metadata": {},
     "output_type": "execute_result"
    }
   ],
   "source": [
    "np.linspace(0,1,20).reshape(2,10)"
   ]
  },
  {
   "cell_type": "code",
   "execution_count": 79,
   "id": "da6045a7-b18f-4253-aeff-0053aa9301a7",
   "metadata": {},
   "outputs": [
    {
     "data": {
      "text/plain": [
       "array([0.  , 0.05, 0.1 , 0.15, 0.2 , 0.25, 0.3 , 0.35, 0.4 , 0.45, 0.5 ,\n",
       "       0.55, 0.6 , 0.65, 0.7 , 0.75, 0.8 , 0.85, 0.9 , 0.95])"
      ]
     },
     "execution_count": 79,
     "metadata": {},
     "output_type": "execute_result"
    }
   ],
   "source": [
    "np.linspace(0,1,20,False)"
   ]
  },
  {
   "cell_type": "code",
   "execution_count": 81,
   "id": "ff95e535-0105-430b-b2c5-4f97876b7fab",
   "metadata": {},
   "outputs": [
    {
     "data": {
      "text/plain": [
       "array([0., 0., 0., 0., 0.])"
      ]
     },
     "execution_count": 81,
     "metadata": {},
     "output_type": "execute_result"
    }
   ],
   "source": [
    "# zero, ones, empty\n",
    "np.zeros(5)"
   ]
  },
  {
   "cell_type": "code",
   "execution_count": 82,
   "id": "6547bb30-a09d-454f-a333-3397bfa40044",
   "metadata": {},
   "outputs": [
    {
     "data": {
      "text/plain": [
       "array([[0., 0., 0.],\n",
       "       [0., 0., 0.],\n",
       "       [0., 0., 0.]])"
      ]
     },
     "execution_count": 82,
     "metadata": {},
     "output_type": "execute_result"
    }
   ],
   "source": [
    "np.zeros((3,3))"
   ]
  },
  {
   "cell_type": "code",
   "execution_count": 84,
   "id": "beb576ff-7943-4dcf-8079-13b86987ae59",
   "metadata": {},
   "outputs": [
    {
     "data": {
      "text/plain": [
       "array([[0, 0, 0],\n",
       "       [0, 0, 0],\n",
       "       [0, 0, 0]])"
      ]
     },
     "execution_count": 84,
     "metadata": {},
     "output_type": "execute_result"
    }
   ],
   "source": [
    "np.zeros((3,3), dtype = int)"
   ]
  },
  {
   "cell_type": "code",
   "execution_count": 85,
   "id": "381654ce-5146-4dcc-8ca9-976963102783",
   "metadata": {},
   "outputs": [
    {
     "data": {
      "text/plain": [
       "array([1., 1., 1., 1., 1.])"
      ]
     },
     "execution_count": 85,
     "metadata": {},
     "output_type": "execute_result"
    }
   ],
   "source": [
    "np.ones(5)"
   ]
  },
  {
   "cell_type": "code",
   "execution_count": 86,
   "id": "fd58d730-864f-4a79-9c67-b9e33b57101b",
   "metadata": {},
   "outputs": [
    {
     "data": {
      "text/plain": [
       "array([1., 1., 1., 1., 1.])"
      ]
     },
     "execution_count": 86,
     "metadata": {},
     "output_type": "execute_result"
    }
   ],
   "source": [
    "np.empty(5)"
   ]
  },
  {
   "cell_type": "code",
   "execution_count": 87,
   "id": "af17d634-c087-4693-ad24-a0c370038c4b",
   "metadata": {},
   "outputs": [
    {
     "data": {
      "text/plain": [
       "array([[0.25, 0.5 ],\n",
       "       [0.75, 1.  ]])"
      ]
     },
     "execution_count": 87,
     "metadata": {},
     "output_type": "execute_result"
    }
   ],
   "source": [
    "np.empty((2,2))"
   ]
  },
  {
   "cell_type": "code",
   "execution_count": 88,
   "id": "1f630555-6df7-4409-921d-213041730949",
   "metadata": {},
   "outputs": [
    {
     "data": {
      "text/plain": [
       "array([[1., 0., 0.],\n",
       "       [0., 1., 0.],\n",
       "       [0., 0., 1.]])"
      ]
     },
     "execution_count": 88,
     "metadata": {},
     "output_type": "execute_result"
    }
   ],
   "source": [
    "# Identity and eye\n",
    "np.identity(3)"
   ]
  },
  {
   "cell_type": "code",
   "execution_count": 89,
   "id": "68ca656a-f2d7-44b8-854a-6d7cfa7c1bd8",
   "metadata": {},
   "outputs": [
    {
     "data": {
      "text/plain": [
       "array([[1., 0., 0.],\n",
       "       [0., 1., 0.],\n",
       "       [0., 0., 1.]])"
      ]
     },
     "execution_count": 89,
     "metadata": {},
     "output_type": "execute_result"
    }
   ],
   "source": [
    "np.eye(3,3)"
   ]
  },
  {
   "cell_type": "code",
   "execution_count": 90,
   "id": "758f188a-7697-4f6f-9cc8-158c6686e091",
   "metadata": {},
   "outputs": [
    {
     "data": {
      "text/plain": [
       "array([[1., 0., 0., 0.],\n",
       "       [0., 1., 0., 0.],\n",
       "       [0., 0., 1., 0.],\n",
       "       [0., 0., 0., 1.],\n",
       "       [0., 0., 0., 0.],\n",
       "       [0., 0., 0., 0.],\n",
       "       [0., 0., 0., 0.],\n",
       "       [0., 0., 0., 0.]])"
      ]
     },
     "execution_count": 90,
     "metadata": {},
     "output_type": "execute_result"
    }
   ],
   "source": [
    "np.eye(8,4)"
   ]
  },
  {
   "cell_type": "code",
   "execution_count": 91,
   "id": "c98937c4-f458-4bf0-9513-c0f37b05fa55",
   "metadata": {},
   "outputs": [
    {
     "data": {
      "text/plain": [
       "array([[0., 1., 0., 0.],\n",
       "       [0., 0., 1., 0.],\n",
       "       [0., 0., 0., 1.],\n",
       "       [0., 0., 0., 0.],\n",
       "       [0., 0., 0., 0.],\n",
       "       [0., 0., 0., 0.],\n",
       "       [0., 0., 0., 0.],\n",
       "       [0., 0., 0., 0.]])"
      ]
     },
     "execution_count": 91,
     "metadata": {},
     "output_type": "execute_result"
    }
   ],
   "source": [
    "np.eye(8,4,k=1)"
   ]
  },
  {
   "cell_type": "code",
   "execution_count": 92,
   "id": "511210cf-2345-49fc-b31b-505a7c40d61f",
   "metadata": {},
   "outputs": [
    {
     "data": {
      "text/plain": [
       "array([[0., 0., 0., 0.],\n",
       "       [0., 0., 0., 0.],\n",
       "       [0., 0., 0., 0.],\n",
       "       [1., 0., 0., 0.],\n",
       "       [0., 1., 0., 0.],\n",
       "       [0., 0., 1., 0.],\n",
       "       [0., 0., 0., 1.],\n",
       "       [0., 0., 0., 0.]])"
      ]
     },
     "execution_count": 92,
     "metadata": {},
     "output_type": "execute_result"
    }
   ],
   "source": [
    "np.eye(8,4,k=-3)"
   ]
  },
  {
   "cell_type": "code",
   "execution_count": null,
   "id": "e0b8cc45-7ab3-41c5-82dc-d8726b931361",
   "metadata": {},
   "outputs": [],
   "source": []
  }
 ],
 "metadata": {
  "kernelspec": {
   "display_name": "Python 3 (ipykernel)",
   "language": "python",
   "name": "python3"
  },
  "language_info": {
   "codemirror_mode": {
    "name": "ipython",
    "version": 3
   },
   "file_extension": ".py",
   "mimetype": "text/x-python",
   "name": "python",
   "nbconvert_exporter": "python",
   "pygments_lexer": "ipython3",
   "version": "3.12.0"
  }
 },
 "nbformat": 4,
 "nbformat_minor": 5
}
